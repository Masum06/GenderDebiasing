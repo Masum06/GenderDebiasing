{
 "cells": [
  {
   "cell_type": "markdown",
   "metadata": {},
   "source": [
    "# Gender Encryption"
   ]
  },
  {
   "cell_type": "code",
   "execution_count": 263,
   "metadata": {},
   "outputs": [],
   "source": [
    "male_pronouns   = [\"he\",  \"him\", \"his$\", \"his\", \"himself\"]\n",
    "female_pronouns = [\"she\", \"her\", \"her$\", \"hers\", \"herself\"]\n",
    "neutral_pronouns= [\"zie\", \"zim\", \"zir\", \"zis\", \"zieself\"]\n",
    "merged_pronouns = [\"he/she\", \"him/her\", \"his/her\", \"his/hers\", \"himself/herself\"]"
   ]
  },
  {
   "cell_type": "code",
   "execution_count": 264,
   "metadata": {},
   "outputs": [],
   "source": [
    "gender_pronouns_dict = {}\n",
    "gender_honorific_dict = {}"
   ]
  },
  {
   "cell_type": "code",
   "execution_count": 265,
   "metadata": {},
   "outputs": [],
   "source": [
    "for (g1,g2,g3,g4) in zip(male_pronouns, female_pronouns, neutral_pronouns, merged_pronouns):\n",
    "    element = {\"male\": g1, \"female\":g2, \"neutral\":g3, \"merged\":g4}\n",
    "    gender_pronouns_dict[g1] = gender_pronouns_dict[g2] = gender_pronouns_dict[g3] = gender_pronouns_dict[g4] =element"
   ]
  },
  {
   "cell_type": "code",
   "execution_count": 266,
   "metadata": {},
   "outputs": [],
   "source": [
    "male_hons   =  [\"Mr.\", \"Mr\", \"Md.\", \"Md\", \"Sir\", \"Lord\", \"Mister\"]\n",
    "female_hons =  [\"Ms.\", \"Ms\", \"Mst.\", \"Mst\", \"Madam\", \"Lady\", \"Miss\"]\n",
    "neutral_hons = [\"Mx.\", \"Mx\", \"Mx.\", \"Mx\", \"Sir/Madam\", \"Lord/Lady\", \"Mister/Miss\"]\n",
    "married_hons = [\"Mrs.\", \"Mrs\", \"Mst.\", \"Mst\", \"Madam\", \"Lady\", \"Mis'ess\"]\n",
    "merged_hons =  [\"Mr./Ms.\", \"Mr/Ms\", \"Md./Mst.\", \"Md/Mst\", \"Sir/Madam\", \"Lord/Lady\", \"Mister/Miss\"]"
   ]
  },
  {
   "cell_type": "code",
   "execution_count": 267,
   "metadata": {},
   "outputs": [],
   "source": [
    "for (h1,h2,h3,h4,h5) in zip(male_hons, female_hons, neutral_hons, married_hons, merged_hons):\n",
    "    element = {\"male\": h1, \"female\":h2, \"neutral\":h3, \"married_fem\":h4, \"merged\":h5}\n",
    "    gender_honorific_dict[h1] = gender_honorific_dict[h2] = gender_honorific_dict[h3] = \\\n",
    "    gender_honorific_dict[h4] = gender_honorific_dict[h5] = element"
   ]
  },
  {
   "cell_type": "markdown",
   "metadata": {},
   "source": [
    "### Name2Gender"
   ]
  },
  {
   "cell_type": "code",
   "execution_count": 130,
   "metadata": {
    "scrolled": true
   },
   "outputs": [
    {
     "name": "stderr",
     "output_type": "stream",
     "text": [
      "Using TensorFlow backend.\n"
     ]
    },
    {
     "name": "stdout",
     "output_type": "stream",
     "text": [
      "2019-11-02 21:40:22,793 From c:\\users\\hp\\appdata\\local\\programs\\python\\python36\\lib\\site-packages\\keras\\backend\\tensorflow_backend.py:517: The name tf.placeholder is deprecated. Please use tf.compat.v1.placeholder instead.\n",
      "\n",
      "2019-11-02 21:40:23,001 From c:\\users\\hp\\appdata\\local\\programs\\python\\python36\\lib\\site-packages\\keras\\backend\\tensorflow_backend.py:4138: The name tf.random_uniform is deprecated. Please use tf.random.uniform instead.\n",
      "\n",
      "2019-11-02 21:40:23,023 From c:\\users\\hp\\appdata\\local\\programs\\python\\python36\\lib\\site-packages\\keras\\backend\\tensorflow_backend.py:74: The name tf.get_default_graph is deprecated. Please use tf.compat.v1.get_default_graph instead.\n",
      "\n",
      "2019-11-02 21:40:23,191 From c:\\users\\hp\\appdata\\local\\programs\\python\\python36\\lib\\site-packages\\keras\\backend\\tensorflow_backend.py:133: The name tf.placeholder_with_default is deprecated. Please use tf.compat.v1.placeholder_with_default instead.\n",
      "\n",
      "2019-11-02 21:40:23,202 From c:\\users\\hp\\appdata\\local\\programs\\python\\python36\\lib\\site-packages\\keras\\backend\\tensorflow_backend.py:3445: calling dropout (from tensorflow.python.ops.nn_ops) with keep_prob is deprecated and will be removed in a future version.\n",
      "Instructions for updating:\n",
      "Please use `rate` instead of `keep_prob`. Rate should be set to `rate = 1 - keep_prob`.\n",
      "2019-11-02 21:40:23,464 From c:\\users\\hp\\appdata\\local\\programs\\python\\python36\\lib\\site-packages\\keras\\backend\\tensorflow_backend.py:174: The name tf.get_default_session is deprecated. Please use tf.compat.v1.get_default_session instead.\n",
      "\n",
      "2019-11-02 21:40:23,647 From c:\\users\\hp\\appdata\\local\\programs\\python\\python36\\lib\\site-packages\\keras\\optimizers.py:790: The name tf.train.Optimizer is deprecated. Please use tf.compat.v1.train.Optimizer instead.\n",
      "\n",
      "2019-11-02 21:40:23,657 From c:\\users\\hp\\appdata\\local\\programs\\python\\python36\\lib\\site-packages\\tensorflow\\python\\ops\\nn_impl.py:180: add_dispatch_support.<locals>.wrapper (from tensorflow.python.ops.array_ops) is deprecated and will be removed in a future version.\n",
      "Instructions for updating:\n",
      "Use tf.where in 2.0, which has the same broadcast rule as np.where\n"
     ]
    }
   ],
   "source": [
    "# LOAD SAVED MODEL\n",
    "from keras.models import load_model\n",
    "\n",
    "#del model  # deletes the existing model\n",
    "model = load_model('char_rnn_hsc_model_0.h5')"
   ]
  },
  {
   "cell_type": "code",
   "execution_count": 131,
   "metadata": {},
   "outputs": [],
   "source": [
    "import json\n",
    "\n",
    "with open('char2idx.json', 'r') as fp:\n",
    "    char2idx = json.load(fp)\n",
    "    \n",
    "with open('idx2char.json', 'r') as fp:\n",
    "    idx2char = json.load(fp)"
   ]
  },
  {
   "cell_type": "code",
   "execution_count": 132,
   "metadata": {},
   "outputs": [],
   "source": [
    "import numpy as np\n",
    "from keras.preprocessing import sequence\n",
    "\n",
    "# Converts a name into vector\n",
    "def name2vectorTest(name):\n",
    "    name = name.lower()\n",
    "    new_name = \"\"\n",
    "    for char in name:\n",
    "      if char in char2idx:\n",
    "        new_name += char\n",
    "    chars = list(new_name)\n",
    "    vector = [ char2idx[c] for c in chars ]\n",
    "    return np.array(vector)\n",
    "\n",
    "# Converts names to fixed size tensor\n",
    "def names2tensorTest(names, maxlen=25):\n",
    "    namelist = [name2vectorTest(name) for name in names]\n",
    "    return sequence.pad_sequences(np.array(namelist), maxlen=maxlen)  # root of all troubles\n",
    "\n",
    "def name2gender(name):\n",
    "  result = model.predict_classes(np.array(names2tensorTest([name.lower()])))[0][0]\n",
    "  if result:\n",
    "    print(\"Male\")\n",
    "  else:\n",
    "    print(\"Female\")\n",
    "  \n",
    "def isMale(name):\n",
    "  result = model.predict_classes(np.array(names2tensorTest([name.lower()])))[0][0]\n",
    "  return result"
   ]
  },
  {
   "cell_type": "code",
   "execution_count": null,
   "metadata": {
    "scrolled": true
   },
   "outputs": [],
   "source": []
  },
  {
   "cell_type": "code",
   "execution_count": 269,
   "metadata": {},
   "outputs": [],
   "source": [
    "s = \"Mr. Masum Hasan is a hero. He saved the planet by snapping his finger.\""
   ]
  },
  {
   "cell_type": "code",
   "execution_count": 270,
   "metadata": {},
   "outputs": [],
   "source": [
    "s = ' '.join(s.split())"
   ]
  },
  {
   "cell_type": "code",
   "execution_count": null,
   "metadata": {},
   "outputs": [],
   "source": []
  },
  {
   "cell_type": "markdown",
   "metadata": {},
   "source": [
    "### POS-NER"
   ]
  },
  {
   "cell_type": "code",
   "execution_count": 7,
   "metadata": {
    "scrolled": true
   },
   "outputs": [],
   "source": [
    "from flair.data import Sentence\n",
    "from flair.models import SequenceTagger\n",
    "from segtok.segmenter import split_single\n",
    "\n",
    "# load the NER tagger\n",
    "#tagger = SequenceTagger.load('ner')"
   ]
  },
  {
   "cell_type": "code",
   "execution_count": 8,
   "metadata": {
    "scrolled": false
   },
   "outputs": [
    {
     "name": "stdout",
     "output_type": "stream",
     "text": [
      "2019-11-02 10:51:37,499 loading file C:\\Users\\Hp\\.flair\\models\\en-ner-conll03-v0.4.pt\n",
      "2019-11-02 10:51:52,567 loading file C:\\Users\\Hp\\.flair\\models\\en-pos-ontonotes-v0.2.pt\n"
     ]
    }
   ],
   "source": [
    "tagger_ner = SequenceTagger.load('ner')\n",
    "tagger_pos = SequenceTagger.load('pos')"
   ]
  },
  {
   "cell_type": "code",
   "execution_count": 251,
   "metadata": {},
   "outputs": [],
   "source": [
    "#s = \"This is his pen.\""
   ]
  },
  {
   "cell_type": "code",
   "execution_count": 271,
   "metadata": {},
   "outputs": [],
   "source": [
    "sent = Sentence(s, use_tokenizer=True)"
   ]
  },
  {
   "cell_type": "code",
   "execution_count": 272,
   "metadata": {
    "scrolled": true
   },
   "outputs": [
    {
     "data": {
      "text/plain": [
       "[Sentence: \"Mr. Masum Hasan is a hero . He saved the planet by snapping his finger .\" - 16 Tokens]"
      ]
     },
     "execution_count": 272,
     "metadata": {},
     "output_type": "execute_result"
    }
   ],
   "source": [
    "tagger_ner.predict(sent)"
   ]
  },
  {
   "cell_type": "code",
   "execution_count": 273,
   "metadata": {
    "scrolled": true
   },
   "outputs": [
    {
     "data": {
      "text/plain": [
       "[Sentence: \"Mr. Masum Hasan is a hero . He saved the planet by snapping his finger .\" - 16 Tokens]"
      ]
     },
     "execution_count": 273,
     "metadata": {},
     "output_type": "execute_result"
    }
   ],
   "source": [
    "tagger_pos.predict(sent)"
   ]
  },
  {
   "cell_type": "code",
   "execution_count": 274,
   "metadata": {},
   "outputs": [
    {
     "data": {
      "text/plain": [
       "'Mr. <NNP> Masum <B-PER/NNP> Hasan <E-PER/NNP> is <VBZ> a <DT> hero <NN> . <.> He <PRP> saved <VBD> the <DT> planet <NN> by <IN> snapping <VBG> his <PRP$> finger <NN> . <.>'"
      ]
     },
     "execution_count": 274,
     "metadata": {},
     "output_type": "execute_result"
    }
   ],
   "source": [
    "sent.to_tagged_string()"
   ]
  },
  {
   "cell_type": "code",
   "execution_count": 275,
   "metadata": {},
   "outputs": [
    {
     "data": {
      "text/plain": [
       "'Mr. <NNP> Masum <B-PER/NNP> Hasan <E-PER/NNP> is <VBZ> a <DT> hero <NN> . <.> He <PRP> saved <VBD> the <DT> planet <NN> by <IN> snapping <VBG> his <PRP$> finger <NN> . <.>'"
      ]
     },
     "execution_count": 275,
     "metadata": {},
     "output_type": "execute_result"
    }
   ],
   "source": [
    "sent.to_tagged_string()"
   ]
  },
  {
   "cell_type": "code",
   "execution_count": 276,
   "metadata": {
    "scrolled": true
   },
   "outputs": [
    {
     "data": {
      "text/plain": [
       "['Mr.',\n",
       " '<NNP>',\n",
       " 'Masum',\n",
       " '<B-PER/NNP>',\n",
       " 'Hasan',\n",
       " '<E-PER/NNP>',\n",
       " 'is',\n",
       " '<VBZ>',\n",
       " 'a',\n",
       " '<DT>',\n",
       " 'hero',\n",
       " '<NN>',\n",
       " '.',\n",
       " '<.>',\n",
       " 'He',\n",
       " '<PRP>',\n",
       " 'saved',\n",
       " '<VBD>',\n",
       " 'the',\n",
       " '<DT>',\n",
       " 'planet',\n",
       " '<NN>',\n",
       " 'by',\n",
       " '<IN>',\n",
       " 'snapping',\n",
       " '<VBG>',\n",
       " 'his',\n",
       " '<PRP$>',\n",
       " 'finger',\n",
       " '<NN>',\n",
       " '.',\n",
       " '<.>']"
      ]
     },
     "execution_count": 276,
     "metadata": {},
     "output_type": "execute_result"
    }
   ],
   "source": [
    "tagged_list = sent.to_tagged_string().split()\n",
    "tagged_list"
   ]
  },
  {
   "cell_type": "code",
   "execution_count": 277,
   "metadata": {},
   "outputs": [],
   "source": [
    "tokens_pos = []\n",
    "pos = []\n",
    "oracle = []"
   ]
  },
  {
   "cell_type": "code",
   "execution_count": 278,
   "metadata": {},
   "outputs": [],
   "source": [
    "for i in range(0,len(tagged_list),2):\n",
    "    tokens_pos.append(tagged_list[i])\n",
    "    pos.append(tagged_list[i+1])\n",
    "    \n",
    "    if tagged_list[i].lower() in male_pronouns+female_pronouns:\n",
    "        oracle.append(2)\n",
    "    elif tagged_list[i+1] in ['<B-PER/NNP>', '<I-PER/NNP>', '<E-PER/NNP>', '<S-PER/NNP>']:\n",
    "        oracle.append(4)\n",
    "    else:\n",
    "        oracle.append(0)"
   ]
  },
  {
   "cell_type": "markdown",
   "metadata": {},
   "source": [
    "### Coreference"
   ]
  },
  {
   "cell_type": "code",
   "execution_count": 279,
   "metadata": {},
   "outputs": [],
   "source": [
    "import spacy\n",
    "nlp = spacy.load('en_core_web_lg') # en_core_web_sm #en_core_web_md"
   ]
  },
  {
   "cell_type": "code",
   "execution_count": 280,
   "metadata": {},
   "outputs": [
    {
     "data": {
      "text/plain": [
       "<spacy.lang.en.English at 0x2365b340208>"
      ]
     },
     "execution_count": 280,
     "metadata": {},
     "output_type": "execute_result"
    }
   ],
   "source": [
    "import neuralcoref\n",
    "neuralcoref.add_to_pipe(nlp)"
   ]
  },
  {
   "cell_type": "code",
   "execution_count": 281,
   "metadata": {
    "scrolled": true
   },
   "outputs": [],
   "source": [
    "doc = nlp(s)\n",
    "\n",
    "#doc._.has_coref\n",
    "#doc._.coref_clusters"
   ]
  },
  {
   "cell_type": "code",
   "execution_count": 282,
   "metadata": {},
   "outputs": [],
   "source": [
    "assert len(doc)==len(tokens_pos)"
   ]
  },
  {
   "cell_type": "code",
   "execution_count": 283,
   "metadata": {},
   "outputs": [],
   "source": [
    "coref2name = {}"
   ]
  },
  {
   "cell_type": "markdown",
   "metadata": {},
   "source": [
    "**Assumption: The sentence will end with period or any other special token**"
   ]
  },
  {
   "cell_type": "code",
   "execution_count": 284,
   "metadata": {},
   "outputs": [],
   "source": [
    "coref_stack = []\n",
    "name_stack = []\n",
    "for i in range(len(doc)):\n",
    "    token = doc[i]\n",
    "    if token._.in_coref:\n",
    "        coref_stack.append(tokens_pos[i])\n",
    "        if oracle[i] == 4:\n",
    "            name_stack.append(tokens_pos[i])\n",
    "        oracle[i] += 1\n",
    "    else:\n",
    "        if len(name_stack) > 0:\n",
    "            name = ' '.join(name_stack)\n",
    "            coref = ' '.join(coref_stack)\n",
    "            #name2coref[name] = coref\n",
    "            coref2name[coref] = name\n",
    "            name_stack.clear()\n",
    "        coref_stack.clear()\n",
    "\n",
    "# IF THE SENTENCE DOES NOT END WITH A PERIOD OR SPECIAL CHARACTER\n",
    "if len(name_stack) > 0:\n",
    "    name = ' '.join(name_stack)\n",
    "    name2coref[name] = ' '.join(coref_stack)\n",
    "    name_stack.clear()\n",
    "coref_stack.clear()"
   ]
  },
  {
   "cell_type": "code",
   "execution_count": 285,
   "metadata": {},
   "outputs": [
    {
     "data": {
      "text/plain": [
       "[1, 5, 5, 0, 0, 0, 0, 3, 0, 0, 0, 0, 0, 3, 0, 0]"
      ]
     },
     "execution_count": 285,
     "metadata": {},
     "output_type": "execute_result"
    }
   ],
   "source": [
    "oracle"
   ]
  },
  {
   "cell_type": "code",
   "execution_count": 286,
   "metadata": {
    "scrolled": true
   },
   "outputs": [
    {
     "data": {
      "text/plain": [
       "{'Mr. Masum Hasan': 'Masum Hasan'}"
      ]
     },
     "execution_count": 286,
     "metadata": {},
     "output_type": "execute_result"
    }
   ],
   "source": [
    "coref2name"
   ]
  },
  {
   "cell_type": "code",
   "execution_count": 287,
   "metadata": {
    "scrolled": true
   },
   "outputs": [
    {
     "data": {
      "text/plain": [
       "Mr. Masum Hasan is a hero. He saved the planet by snapping his finger."
      ]
     },
     "execution_count": 287,
     "metadata": {},
     "output_type": "execute_result"
    }
   ],
   "source": [
    "doc"
   ]
  },
  {
   "cell_type": "code",
   "execution_count": 288,
   "metadata": {
    "scrolled": true
   },
   "outputs": [
    {
     "data": {
      "text/plain": [
       "['<NNP>',\n",
       " '<B-PER/NNP>',\n",
       " '<E-PER/NNP>',\n",
       " '<VBZ>',\n",
       " '<DT>',\n",
       " '<NN>',\n",
       " '<.>',\n",
       " '<PRP>',\n",
       " '<VBD>',\n",
       " '<DT>',\n",
       " '<NN>',\n",
       " '<IN>',\n",
       " '<VBG>',\n",
       " '<PRP$>',\n",
       " '<NN>',\n",
       " '<.>']"
      ]
     },
     "execution_count": 288,
     "metadata": {},
     "output_type": "execute_result"
    }
   ],
   "source": [
    "pos"
   ]
  },
  {
   "cell_type": "code",
   "execution_count": 297,
   "metadata": {},
   "outputs": [],
   "source": [
    "encrypted = []"
   ]
  },
  {
   "cell_type": "code",
   "execution_count": 298,
   "metadata": {},
   "outputs": [],
   "source": [
    "Name2Key = {}\n",
    "Key2Name = {}"
   ]
  },
  {
   "cell_type": "code",
   "execution_count": 299,
   "metadata": {},
   "outputs": [],
   "source": [
    "num_keys = 0"
   ]
  },
  {
   "cell_type": "code",
   "execution_count": 300,
   "metadata": {},
   "outputs": [],
   "source": [
    "def store(name, name_found):\n",
    "    print(\">>\", name,\">>\", name_found)\n",
    "    if name_found in Name2Key:\n",
    "        if name not in Name2Key:\n",
    "            element = {\"name\": name, \"is_alias\": True, \"alias_to\": name_found}\n",
    "    else:\n",
    "        global num_keys\n",
    "        num_keys+=1\n",
    "        key = \"PER_\"+str(num_keys)\n",
    "        gender = name2gender(name)\n",
    "        alias = None\n",
    "        \n",
    "        if name!=name_found:\n",
    "            element_alias = {\"name\": name, \"is_alias\": True, \"alias_to\": name_found}\n",
    "            Name2Key[name] = element_alias\n",
    "            alias = name\n",
    "        \n",
    "        element = {\"name\": name, \"key\": key, \"gender\":gender, \"alias\":alias, \"is_alias\": True, \"alias_to\": name_found}\n",
    "        Name2Key[name_found] = element\n",
    "        Key2Name[key] = element\n",
    "        \n",
    "    return Name2Key[name_found][\"key\"]"
   ]
  },
  {
   "cell_type": "code",
   "execution_count": 301,
   "metadata": {},
   "outputs": [
    {
     "name": "stdout",
     "output_type": "stream",
     "text": [
      "Oracle:  1\n",
      "Oracle:  5\n",
      ">> Masum Hasan >> Masum Hasan\n",
      "Male\n",
      "Oracle:  0\n",
      "Oracle:  0\n",
      "Oracle:  0\n",
      "Oracle:  0\n",
      "Oracle:  3\n",
      "Oracle:  0\n",
      "Oracle:  0\n",
      "Oracle:  0\n",
      "Oracle:  0\n",
      "Oracle:  0\n",
      "Oracle:  3\n",
      "Oracle:  0\n",
      "Oracle:  0\n"
     ]
    }
   ],
   "source": [
    "i = 0\n",
    "while i<len(tokens_pos):\n",
    "    print(\"Oracle: \", oracle[i])\n",
    "    \n",
    "    if oracle[i] == 0:\n",
    "        encrypted.append(tokens_pos[i])\n",
    "    elif oracle[i] == 1:\n",
    "        if tokens_pos[i] in gender_honorific_dict:\n",
    "            encrypted.append(\"<|hons|>\")\n",
    "            encrypted.append(gender_honorific_dict[tokens_pos[i]][\"merged\"])\n",
    "        else:\n",
    "            encrypted.append(tokens_pos[i])\n",
    "    elif oracle[i] == 2:\n",
    "        pronoun = tokens_pos[i].lower()\n",
    "        if pos[i] == '<PRP$>':\n",
    "            pronoun+=\"$\"\n",
    "        encrypted.append(gender_pronouns_dict[pronoun][\"merged\"])\n",
    "    elif oracle[i] == 3:\n",
    "        #if doc[i]._.in_coref:\n",
    "        coref = doc[i]._.coref_clusters[0][0].text\n",
    "        name_found = coref2name[coref]\n",
    "        key = Name2Key[name_found][\"key\"]\n",
    "        encrypted.append(\"<|coref|>\")\n",
    "        pronoun = tokens_pos[i].lower()\n",
    "        if pos[i] == '<PRP$>':\n",
    "            pronoun+=\"$\"\n",
    "        encrypted.append(gender_pronouns_dict[pronoun][\"merged\"])\n",
    "        encrypted.append(key)\n",
    "        \n",
    "    elif oracle[i] == 4:\n",
    "        if pos[i] == '<S-PER/NNP>':\n",
    "            name = tokens_pos[i]\n",
    "        else:\n",
    "            name = \"\"\n",
    "            while True:\n",
    "                name += tokens_pos[i]\n",
    "                if pos[i] == '<E-PER/NNP>':\n",
    "                    break\n",
    "        key = store(name, name)\n",
    "        encrypted.append(key)\n",
    "        \n",
    "    elif oracle[i] == 5:\n",
    "        if pos[i] == '<S-PER/NNP>':\n",
    "            name = tokens_pos[i]\n",
    "        else:\n",
    "            name = \"\"\n",
    "            while True:\n",
    "                #print(\"pos[i]: \", pos[i])\n",
    "                name += tokens_pos[i]\n",
    "                if pos[i] == '<E-PER/NNP>':\n",
    "                    break\n",
    "                name += \" \"\n",
    "                i+=1\n",
    "        coref = doc[i]._.coref_clusters[0][0].text\n",
    "        name_found = coref2name[coref]\n",
    "        if name == name_found:\n",
    "            key = store(name, name_found)\n",
    "            encrypted.append(key)\n",
    "        else:\n",
    "            key = store(name, name_found)\n",
    "            encrypted.append(\"<|alias|>\")\n",
    "            encrypted.append(key)\n",
    "    i+=1"
   ]
  },
  {
   "cell_type": "code",
   "execution_count": null,
   "metadata": {},
   "outputs": [],
   "source": []
  },
  {
   "cell_type": "code",
   "execution_count": 302,
   "metadata": {},
   "outputs": [
    {
     "data": {
      "text/plain": [
       "['<|hons|>',\n",
       " 'Mr./Ms.',\n",
       " 'PER_1',\n",
       " 'is',\n",
       " 'a',\n",
       " 'hero',\n",
       " '.',\n",
       " '<|coref|>',\n",
       " 'he/she',\n",
       " 'PER_1',\n",
       " 'saved',\n",
       " 'the',\n",
       " 'planet',\n",
       " 'by',\n",
       " 'snapping',\n",
       " '<|coref|>',\n",
       " 'his/her',\n",
       " 'PER_1',\n",
       " 'finger',\n",
       " '.']"
      ]
     },
     "execution_count": 302,
     "metadata": {},
     "output_type": "execute_result"
    }
   ],
   "source": [
    "encrypted"
   ]
  },
  {
   "cell_type": "code",
   "execution_count": 223,
   "metadata": {},
   "outputs": [
    {
     "data": {
      "text/plain": [
       "{'Mr. Masum Hasan': 'Masum Hasan'}"
      ]
     },
     "execution_count": 223,
     "metadata": {},
     "output_type": "execute_result"
    }
   ],
   "source": [
    "coref2name"
   ]
  },
  {
   "cell_type": "code",
   "execution_count": 224,
   "metadata": {},
   "outputs": [
    {
     "data": {
      "text/plain": [
       "{'Masum Hasan': {'name': 'Masum Hasan',\n",
       "  'key': 'PER_1',\n",
       "  'gender': None,\n",
       "  'alias': None,\n",
       "  'is_alias': True,\n",
       "  'alias_to': 'Masum Hasan'}}"
      ]
     },
     "execution_count": 224,
     "metadata": {},
     "output_type": "execute_result"
    }
   ],
   "source": [
    "Name2Key"
   ]
  },
  {
   "cell_type": "code",
   "execution_count": 225,
   "metadata": {},
   "outputs": [
    {
     "data": {
      "text/plain": [
       "'Mr. Masum Hasan'"
      ]
     },
     "execution_count": 225,
     "metadata": {},
     "output_type": "execute_result"
    }
   ],
   "source": [
    "coref"
   ]
  },
  {
   "cell_type": "code",
   "execution_count": 226,
   "metadata": {},
   "outputs": [
    {
     "data": {
      "text/plain": [
       "{'PER_1': {'name': 'Masum Hasan',\n",
       "  'key': 'PER_1',\n",
       "  'gender': None,\n",
       "  'alias': None,\n",
       "  'is_alias': True,\n",
       "  'alias_to': 'Masum Hasan'}}"
      ]
     },
     "execution_count": 226,
     "metadata": {},
     "output_type": "execute_result"
    }
   ],
   "source": [
    "Key2Name"
   ]
  },
  {
   "cell_type": "code",
   "execution_count": 227,
   "metadata": {},
   "outputs": [
    {
     "data": {
      "text/plain": [
       "'Masum Hasan'"
      ]
     },
     "execution_count": 227,
     "metadata": {},
     "output_type": "execute_result"
    }
   ],
   "source": [
    "coref2name['Mr. Masum Hasan']"
   ]
  },
  {
   "cell_type": "code",
   "execution_count": 228,
   "metadata": {},
   "outputs": [
    {
     "data": {
      "text/plain": [
       "['<|hons|>',\n",
       " 'Mr./Ms.',\n",
       " 'PER_1',\n",
       " 'is',\n",
       " 'a',\n",
       " 'hero',\n",
       " '.',\n",
       " '<|coref|>',\n",
       " 'he/she',\n",
       " 'PER_1',\n",
       " 'saved',\n",
       " 'the',\n",
       " 'planet',\n",
       " 'by',\n",
       " 'snapping',\n",
       " '<|coref|>',\n",
       " 'his/hers',\n",
       " 'PER_1',\n",
       " 'finger',\n",
       " '.']"
      ]
     },
     "execution_count": 228,
     "metadata": {},
     "output_type": "execute_result"
    }
   ],
   "source": [
    "encrypted"
   ]
  },
  {
   "cell_type": "code",
   "execution_count": null,
   "metadata": {},
   "outputs": [],
   "source": []
  }
 ],
 "metadata": {
  "kernelspec": {
   "display_name": "Python 3",
   "language": "python",
   "name": "python3"
  },
  "language_info": {
   "codemirror_mode": {
    "name": "ipython",
    "version": 3
   },
   "file_extension": ".py",
   "mimetype": "text/x-python",
   "name": "python",
   "nbconvert_exporter": "python",
   "pygments_lexer": "ipython3",
   "version": "3.6.8"
  }
 },
 "nbformat": 4,
 "nbformat_minor": 2
}
