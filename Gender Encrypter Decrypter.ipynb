{
 "cells": [
  {
   "cell_type": "markdown",
   "metadata": {},
   "source": [
    "## Text to Name"
   ]
  },
  {
   "cell_type": "markdown",
   "metadata": {},
   "source": [
    "https://github.com/zalandoresearch/flair"
   ]
  },
  {
   "cell_type": "code",
   "execution_count": null,
   "metadata": {},
   "outputs": [],
   "source": [
    "#!pip install flair"
   ]
  },
  {
   "cell_type": "code",
   "execution_count": 1,
   "metadata": {},
   "outputs": [],
   "source": [
    "from flair.data import Sentence"
   ]
  },
  {
   "cell_type": "code",
   "execution_count": 2,
   "metadata": {
    "scrolled": true
   },
   "outputs": [
    {
     "name": "stdout",
     "output_type": "stream",
     "text": [
      "2019-11-01 12:05:28,662 loading file C:\\Users\\Hp\\.flair\\models\\en-ner-conll03-v0.4.pt\n"
     ]
    }
   ],
   "source": [
    "from flair.models import SequenceTagger\n",
    "from segtok.segmenter import split_single\n",
    "\n",
    "# load the NER tagger\n",
    "tagger = SequenceTagger.load('ner')\n"
   ]
  },
  {
   "cell_type": "code",
   "execution_count": 3,
   "metadata": {},
   "outputs": [],
   "source": [
    "def namesAndSentences(text):\n",
    "    sentences_obj = [Sentence(sent, use_tokenizer=True) for sent in split_single(text)]\n",
    "    tagger: SequenceTagger = SequenceTagger.load('ner')\n",
    "    #tagger.predict(sentences_obj)\n",
    "    tegged_sentences = tagger.predict(sentences_obj)\n",
    "    #name_gender = {}\n",
    "    sentences = []\n",
    "    male_names = []\n",
    "    female_names = []\n",
    "    for tagged_sent in tegged_sentences:\n",
    "        sent_dict = tagged_sent.to_dict(tag_type='ner')\n",
    "        sentences += [sent_dict['text']]\n",
    "        if sent_dict['entities']:\n",
    "            for entity in sent_dict['entities']:\n",
    "                if entity['type'] == 'PER':\n",
    "                    name = entity['text']\n",
    "                    gender = isMale(name)\n",
    "                    #name_gender[name] = gender\n",
    "                    if gender:\n",
    "                        male_names.append(name)\n",
    "                    else:\n",
    "                        female_names.append(name)\n",
    "                    print(name, gender)\n",
    "    return male_names, female_names, sentences"
   ]
  },
  {
   "cell_type": "code",
   "execution_count": 4,
   "metadata": {},
   "outputs": [],
   "source": [
    "def humanName(name, names):\n",
    "    for x in names:\n",
    "        if x in name:\n",
    "            return True\n",
    "    return False"
   ]
  },
  {
   "cell_type": "code",
   "execution_count": 5,
   "metadata": {},
   "outputs": [],
   "source": [
    "s = \"President Tom Cruise is the highest paid star in Hollywood . He can demand any payment . But Robert Downey Jr. is now trumping him . He is even asking more money than Tom .\""
   ]
  },
  {
   "cell_type": "code",
   "execution_count": 6,
   "metadata": {},
   "outputs": [
    {
     "name": "stdout",
     "output_type": "stream",
     "text": [
      "2019-11-01 12:05:44,195 loading file C:\\Users\\Hp\\.flair\\models\\en-ner-conll03-v0.4.pt\n"
     ]
    }
   ],
   "source": [
    "sentences_obj = [Sentence(sent, use_tokenizer=True) for sent in split_single(s)]\n",
    "tagger: SequenceTagger = SequenceTagger.load('ner')\n",
    "#tagger.predict(sentences_obj)\n",
    "tegged_sentences = tagger.predict(sentences_obj)"
   ]
  },
  {
   "cell_type": "code",
   "execution_count": 7,
   "metadata": {},
   "outputs": [
    {
     "data": {
      "text/plain": [
       "[Sentence: \"President Tom Cruise is the highest paid star in Hollywood . He can demand any payment . But Robert Downey Jr. is now trumping him . He is even asking more money than Tom .\" - 35 Tokens]"
      ]
     },
     "execution_count": 7,
     "metadata": {},
     "output_type": "execute_result"
    }
   ],
   "source": [
    "tegged_sentences"
   ]
  },
  {
   "cell_type": "code",
   "execution_count": 8,
   "metadata": {},
   "outputs": [
    {
     "data": {
      "text/plain": [
       "Sentence: \"President Tom Cruise is the highest paid star in Hollywood . He can demand any payment . But Robert Downey Jr. is now trumping him . He is even asking more money than Tom .\" - 35 Tokens"
      ]
     },
     "execution_count": 8,
     "metadata": {},
     "output_type": "execute_result"
    }
   ],
   "source": [
    "sent = Sentence(s, use_tokenizer=True)\n",
    "sent"
   ]
  },
  {
   "cell_type": "code",
   "execution_count": 9,
   "metadata": {},
   "outputs": [
    {
     "data": {
      "text/plain": [
       "[Sentence: \"President Tom Cruise is the highest paid star in Hollywood . He can demand any payment . But Robert Downey Jr. is now trumping him . He is even asking more money than Tom .\" - 35 Tokens]"
      ]
     },
     "execution_count": 9,
     "metadata": {},
     "output_type": "execute_result"
    }
   ],
   "source": [
    "tegged_sentences = tagger.predict(sent)\n",
    "tegged_sentences"
   ]
  },
  {
   "cell_type": "code",
   "execution_count": 10,
   "metadata": {},
   "outputs": [
    {
     "data": {
      "text/plain": [
       "{'text': 'President Tom Cruise is the highest paid star in Hollywood . He can demand any payment . But Robert Downey Jr. is now trumping him . He is even asking more money than Tom .',\n",
       " 'labels': [],\n",
       " 'entities': [{'text': 'Tom Cruise',\n",
       "   'start_pos': 10,\n",
       "   'end_pos': 20,\n",
       "   'type': 'PER',\n",
       "   'confidence': 0.9993259310722351},\n",
       "  {'text': 'Hollywood',\n",
       "   'start_pos': 49,\n",
       "   'end_pos': 58,\n",
       "   'type': 'LOC',\n",
       "   'confidence': 0.9993112087249756},\n",
       "  {'text': 'Robert Downey Jr.',\n",
       "   'start_pos': 93,\n",
       "   'end_pos': 110,\n",
       "   'type': 'PER',\n",
       "   'confidence': 0.8369943698247274},\n",
       "  {'text': 'Tom',\n",
       "   'start_pos': 167,\n",
       "   'end_pos': 170,\n",
       "   'type': 'PER',\n",
       "   'confidence': 0.997749388217926}]}"
      ]
     },
     "execution_count": 10,
     "metadata": {},
     "output_type": "execute_result"
    }
   ],
   "source": [
    "tegged_sentences[0].to_dict(tag_type='ner')"
   ]
  },
  {
   "cell_type": "code",
   "execution_count": 11,
   "metadata": {
    "scrolled": true
   },
   "outputs": [
    {
     "name": "stdout",
     "output_type": "stream",
     "text": [
      "2019-11-01 12:05:52,303 loading file C:\\Users\\Hp\\.flair\\models\\en-pos-ontonotes-v0.2.pt\n"
     ]
    },
    {
     "data": {
      "text/plain": [
       "[Sentence: \"President Tom Cruise is the highest paid star in Hollywood . He can demand any payment . But Robert Downey Jr. is now trumping him . He is even asking more money than Tom .\" - 35 Tokens]"
      ]
     },
     "execution_count": 11,
     "metadata": {},
     "output_type": "execute_result"
    }
   ],
   "source": [
    "tagger = SequenceTagger.load('pos')\n",
    "\n",
    "# text with English and German sentences\n",
    "#sentence = Sentence('George Washington went to Washington . Dort kaufte er einen Hut .')\n",
    "\n",
    "# predict PoS tags\n",
    "tagger.predict(sent)"
   ]
  },
  {
   "cell_type": "code",
   "execution_count": 12,
   "metadata": {},
   "outputs": [
    {
     "name": "stdout",
     "output_type": "stream",
     "text": [
      "President <NNP> Tom <B-PER/NNP> Cruise <E-PER/NNP> is <VBZ> the <DT> highest <RBS> paid <VBN> star <NN> in <IN> Hollywood <S-LOC/NNP> . <.> He <PRP> can <MD> demand <VB> any <DT> payment <NN> . <,> But <CC> Robert <B-PER/NNP> Downey <I-PER/NNP> Jr. <E-PER/NNP> is <VBZ> now <RB> trumping <VBG> him <PRP> . <.> He <PRP> is <VBZ> even <RB> asking <VBG> more <JJR> money <NN> than <IN> Tom <S-PER/NNP> . <.>\n"
     ]
    }
   ],
   "source": [
    "print(sent.to_tagged_string())"
   ]
  },
  {
   "cell_type": "code",
   "execution_count": null,
   "metadata": {},
   "outputs": [],
   "source": [
    "sent.to_tagged_string()"
   ]
  },
  {
   "cell_type": "code",
   "execution_count": 77,
   "metadata": {},
   "outputs": [
    {
     "data": {
      "text/plain": [
       "{'text': 'Tom Cruise is the highest paid star in Hollywood . He can demand any payment . But Robert Downey Jr. is now trumping him . He is even asking more money than Tom .',\n",
       " 'labels': [],\n",
       " 'entities': [{'text': 'Tom',\n",
       "   'start_pos': 0,\n",
       "   'end_pos': 3,\n",
       "   'type': 'NNP',\n",
       "   'confidence': 0.9994673132896423},\n",
       "  {'text': 'Cruise',\n",
       "   'start_pos': 4,\n",
       "   'end_pos': 10,\n",
       "   'type': 'NNP',\n",
       "   'confidence': 0.9999730587005615},\n",
       "  {'text': 'is',\n",
       "   'start_pos': 11,\n",
       "   'end_pos': 13,\n",
       "   'type': 'VBZ',\n",
       "   'confidence': 0.9999996423721313},\n",
       "  {'text': 'the',\n",
       "   'start_pos': 14,\n",
       "   'end_pos': 17,\n",
       "   'type': 'DT',\n",
       "   'confidence': 0.9999998807907104},\n",
       "  {'text': 'highest',\n",
       "   'start_pos': 18,\n",
       "   'end_pos': 25,\n",
       "   'type': 'RBS',\n",
       "   'confidence': 0.6876330971717834},\n",
       "  {'text': 'paid',\n",
       "   'start_pos': 26,\n",
       "   'end_pos': 30,\n",
       "   'type': 'VBN',\n",
       "   'confidence': 0.8565100431442261},\n",
       "  {'text': 'star',\n",
       "   'start_pos': 31,\n",
       "   'end_pos': 35,\n",
       "   'type': 'NN',\n",
       "   'confidence': 0.9999558925628662},\n",
       "  {'text': 'in',\n",
       "   'start_pos': 36,\n",
       "   'end_pos': 38,\n",
       "   'type': 'IN',\n",
       "   'confidence': 0.9999997615814209},\n",
       "  {'text': 'Hollywood',\n",
       "   'start_pos': 39,\n",
       "   'end_pos': 48,\n",
       "   'type': 'NNP',\n",
       "   'confidence': 0.9999830722808838},\n",
       "  {'text': '.',\n",
       "   'start_pos': 49,\n",
       "   'end_pos': 50,\n",
       "   'type': '.',\n",
       "   'confidence': 0.9835250377655029},\n",
       "  {'text': 'He',\n",
       "   'start_pos': 51,\n",
       "   'end_pos': 53,\n",
       "   'type': 'PRP',\n",
       "   'confidence': 0.999994158744812},\n",
       "  {'text': 'can',\n",
       "   'start_pos': 54,\n",
       "   'end_pos': 57,\n",
       "   'type': 'MD',\n",
       "   'confidence': 1.0},\n",
       "  {'text': 'demand',\n",
       "   'start_pos': 58,\n",
       "   'end_pos': 64,\n",
       "   'type': 'VB',\n",
       "   'confidence': 0.9999964237213135},\n",
       "  {'text': 'any',\n",
       "   'start_pos': 65,\n",
       "   'end_pos': 68,\n",
       "   'type': 'DT',\n",
       "   'confidence': 1.0},\n",
       "  {'text': 'payment',\n",
       "   'start_pos': 69,\n",
       "   'end_pos': 76,\n",
       "   'type': 'NN',\n",
       "   'confidence': 0.9999921321868896},\n",
       "  {'text': '.',\n",
       "   'start_pos': 77,\n",
       "   'end_pos': 78,\n",
       "   'type': ',',\n",
       "   'confidence': 0.8404860496520996},\n",
       "  {'text': 'But',\n",
       "   'start_pos': 79,\n",
       "   'end_pos': 82,\n",
       "   'type': 'CC',\n",
       "   'confidence': 0.9999988079071045},\n",
       "  {'text': 'Robert',\n",
       "   'start_pos': 83,\n",
       "   'end_pos': 89,\n",
       "   'type': 'NNP',\n",
       "   'confidence': 0.9997842907905579},\n",
       "  {'text': 'Downey',\n",
       "   'start_pos': 90,\n",
       "   'end_pos': 96,\n",
       "   'type': 'NNP',\n",
       "   'confidence': 0.9998078942298889},\n",
       "  {'text': 'Jr.',\n",
       "   'start_pos': 97,\n",
       "   'end_pos': 100,\n",
       "   'type': 'NNP',\n",
       "   'confidence': 0.9998773336410522},\n",
       "  {'text': 'is',\n",
       "   'start_pos': 101,\n",
       "   'end_pos': 103,\n",
       "   'type': 'VBZ',\n",
       "   'confidence': 1.0},\n",
       "  {'text': 'now',\n",
       "   'start_pos': 104,\n",
       "   'end_pos': 107,\n",
       "   'type': 'RB',\n",
       "   'confidence': 1.0},\n",
       "  {'text': 'trumping',\n",
       "   'start_pos': 108,\n",
       "   'end_pos': 116,\n",
       "   'type': 'VBG',\n",
       "   'confidence': 0.9999995231628418},\n",
       "  {'text': 'him',\n",
       "   'start_pos': 117,\n",
       "   'end_pos': 120,\n",
       "   'type': 'PRP',\n",
       "   'confidence': 0.9999997615814209},\n",
       "  {'text': '.',\n",
       "   'start_pos': 121,\n",
       "   'end_pos': 122,\n",
       "   'type': '.',\n",
       "   'confidence': 0.8857439160346985},\n",
       "  {'text': 'He',\n",
       "   'start_pos': 123,\n",
       "   'end_pos': 125,\n",
       "   'type': 'PRP',\n",
       "   'confidence': 1.0},\n",
       "  {'text': 'is',\n",
       "   'start_pos': 126,\n",
       "   'end_pos': 128,\n",
       "   'type': 'VBZ',\n",
       "   'confidence': 1.0},\n",
       "  {'text': 'even',\n",
       "   'start_pos': 129,\n",
       "   'end_pos': 133,\n",
       "   'type': 'RB',\n",
       "   'confidence': 0.9999998807907104},\n",
       "  {'text': 'asking',\n",
       "   'start_pos': 134,\n",
       "   'end_pos': 140,\n",
       "   'type': 'VBG',\n",
       "   'confidence': 0.9999998807907104},\n",
       "  {'text': 'more',\n",
       "   'start_pos': 141,\n",
       "   'end_pos': 145,\n",
       "   'type': 'JJR',\n",
       "   'confidence': 0.9997190833091736},\n",
       "  {'text': 'money',\n",
       "   'start_pos': 146,\n",
       "   'end_pos': 151,\n",
       "   'type': 'NN',\n",
       "   'confidence': 0.9999980926513672},\n",
       "  {'text': 'than',\n",
       "   'start_pos': 152,\n",
       "   'end_pos': 156,\n",
       "   'type': 'IN',\n",
       "   'confidence': 0.9999998807907104},\n",
       "  {'text': 'Tom',\n",
       "   'start_pos': 157,\n",
       "   'end_pos': 160,\n",
       "   'type': 'NNP',\n",
       "   'confidence': 0.9999991655349731},\n",
       "  {'text': '.',\n",
       "   'start_pos': 161,\n",
       "   'end_pos': 162,\n",
       "   'type': '.',\n",
       "   'confidence': 0.9999839067459106}]}"
      ]
     },
     "execution_count": 77,
     "metadata": {},
     "output_type": "execute_result"
    }
   ],
   "source": [
    "sent.to_dict(tag_type='pos')"
   ]
  },
  {
   "cell_type": "code",
   "execution_count": 13,
   "metadata": {},
   "outputs": [
    {
     "data": {
      "text/plain": [
       "[Sentence: \"President Tom Cruise is the highest paid star in Hollywood . He can demand any payment . But Robert Downey Jr. is now trumping him . He is even asking more money than Tom .\" - 35 Tokens]"
      ]
     },
     "execution_count": 13,
     "metadata": {},
     "output_type": "execute_result"
    }
   ],
   "source": [
    "tagger.predict(sent)"
   ]
  },
  {
   "cell_type": "code",
   "execution_count": 14,
   "metadata": {},
   "outputs": [
    {
     "data": {
      "text/plain": [
       "[Sentence: \"George Washington went to Washington . He 's too cool .\" - 11 Tokens]"
      ]
     },
     "execution_count": 14,
     "metadata": {},
     "output_type": "execute_result"
    }
   ],
   "source": [
    "sentence = Sentence(\"George Washington went to Washington. He's too cool.\", use_tokenizer=True)\n",
    "tagger.predict(sentence)"
   ]
  },
  {
   "cell_type": "code",
   "execution_count": 15,
   "metadata": {},
   "outputs": [],
   "source": [
    "s = 'President Tom Cruise is the highest paid star in Hollywood. He can demand any payment. But Robert Downey Jr. is now trumping him. He is even asking more money than Tom.'"
   ]
  },
  {
   "cell_type": "code",
   "execution_count": 39,
   "metadata": {},
   "outputs": [
    {
     "name": "stdout",
     "output_type": "stream",
     "text": [
      "2019-11-01 12:07:24,718 loading file C:\\Users\\Hp\\.flair\\models\\en-ner-conll03-v0.4.pt\n",
      "Pelosi 0\n",
      "Mahmudul Hasan 1\n"
     ]
    },
    {
     "data": {
      "text/plain": [
       "(['Mahmudul Hasan'],\n",
       " ['Pelosi'],\n",
       " ['The day was a stunning turn in a drama that has riveted Capitol Hill, and the nation, since Ms.',\n",
       "  'Pelosi announced last month that House Democrats would begin an impeachment investigation into whether Md.',\n",
       "  'Mahmudul Hasan abused his power to pressure Ukraine to smear his political rivals, declaring that he had betrayed his oath of office.'])"
      ]
     },
     "execution_count": 39,
     "metadata": {},
     "output_type": "execute_result"
    }
   ],
   "source": [
    "namesAndSentences(s)"
   ]
  },
  {
   "cell_type": "markdown",
   "metadata": {},
   "source": [
    "## Name To Gender"
   ]
  },
  {
   "cell_type": "code",
   "execution_count": 17,
   "metadata": {
    "scrolled": true
   },
   "outputs": [
    {
     "name": "stderr",
     "output_type": "stream",
     "text": [
      "Using TensorFlow backend.\n"
     ]
    },
    {
     "name": "stdout",
     "output_type": "stream",
     "text": [
      "2019-11-01 12:06:17,603 From c:\\users\\hp\\appdata\\local\\programs\\python\\python36\\lib\\site-packages\\keras\\backend\\tensorflow_backend.py:517: The name tf.placeholder is deprecated. Please use tf.compat.v1.placeholder instead.\n",
      "\n",
      "2019-11-01 12:06:17,670 From c:\\users\\hp\\appdata\\local\\programs\\python\\python36\\lib\\site-packages\\keras\\backend\\tensorflow_backend.py:4138: The name tf.random_uniform is deprecated. Please use tf.random.uniform instead.\n",
      "\n",
      "2019-11-01 12:06:17,709 From c:\\users\\hp\\appdata\\local\\programs\\python\\python36\\lib\\site-packages\\keras\\backend\\tensorflow_backend.py:74: The name tf.get_default_graph is deprecated. Please use tf.compat.v1.get_default_graph instead.\n",
      "\n",
      "2019-11-01 12:06:17,888 From c:\\users\\hp\\appdata\\local\\programs\\python\\python36\\lib\\site-packages\\keras\\backend\\tensorflow_backend.py:133: The name tf.placeholder_with_default is deprecated. Please use tf.compat.v1.placeholder_with_default instead.\n",
      "\n",
      "2019-11-01 12:06:17,897 From c:\\users\\hp\\appdata\\local\\programs\\python\\python36\\lib\\site-packages\\keras\\backend\\tensorflow_backend.py:3445: calling dropout (from tensorflow.python.ops.nn_ops) with keep_prob is deprecated and will be removed in a future version.\n",
      "Instructions for updating:\n",
      "Please use `rate` instead of `keep_prob`. Rate should be set to `rate = 1 - keep_prob`.\n",
      "2019-11-01 12:06:18,155 From c:\\users\\hp\\appdata\\local\\programs\\python\\python36\\lib\\site-packages\\keras\\backend\\tensorflow_backend.py:174: The name tf.get_default_session is deprecated. Please use tf.compat.v1.get_default_session instead.\n",
      "\n",
      "2019-11-01 12:06:18,330 From c:\\users\\hp\\appdata\\local\\programs\\python\\python36\\lib\\site-packages\\keras\\optimizers.py:790: The name tf.train.Optimizer is deprecated. Please use tf.compat.v1.train.Optimizer instead.\n",
      "\n",
      "2019-11-01 12:06:18,339 From c:\\users\\hp\\appdata\\local\\programs\\python\\python36\\lib\\site-packages\\tensorflow\\python\\ops\\nn_impl.py:180: add_dispatch_support.<locals>.wrapper (from tensorflow.python.ops.array_ops) is deprecated and will be removed in a future version.\n",
      "Instructions for updating:\n",
      "Use tf.where in 2.0, which has the same broadcast rule as np.where\n"
     ]
    }
   ],
   "source": [
    "# LOAD SAVED MODEL\n",
    "from keras.models import load_model\n",
    "\n",
    "#del model  # deletes the existing model\n",
    "model = load_model('char_rnn_hsc_model_0.h5')"
   ]
  },
  {
   "cell_type": "code",
   "execution_count": 18,
   "metadata": {},
   "outputs": [],
   "source": [
    "import json\n",
    "\n",
    "with open('char2idx.json', 'r') as fp:\n",
    "    char2idx = json.load(fp)\n",
    "    \n",
    "with open('idx2char.json', 'r') as fp:\n",
    "    idx2char = json.load(fp)"
   ]
  },
  {
   "cell_type": "code",
   "execution_count": 19,
   "metadata": {},
   "outputs": [],
   "source": [
    "import numpy as np\n",
    "from keras.preprocessing import sequence\n",
    "\n",
    "# Converts a name into vector\n",
    "def name2vectorTest(name):\n",
    "    name = name.lower()\n",
    "    new_name = \"\"\n",
    "    for char in name:\n",
    "      if char in char2idx:\n",
    "        new_name += char\n",
    "    chars = list(new_name)\n",
    "    vector = [ char2idx[c] for c in chars ]\n",
    "    return np.array(vector)\n",
    "\n",
    "# Converts names to fixed size tensor\n",
    "def names2tensorTest(names, maxlen=25):\n",
    "    namelist = [name2vectorTest(name) for name in names]\n",
    "    return sequence.pad_sequences(np.array(namelist), maxlen=maxlen)  # root of all troubles\n",
    "\n",
    "def name2gender(name):\n",
    "  result = model.predict_classes(np.array(names2tensorTest([name.lower()])))[0][0]\n",
    "  if result:\n",
    "    print(\"Male\")\n",
    "  else:\n",
    "    print(\"Female\")\n",
    "  \n",
    "def isMale(name):\n",
    "  result = model.predict_classes(np.array(names2tensorTest([name.lower()])))[0][0]\n",
    "  return result"
   ]
  },
  {
   "cell_type": "code",
   "execution_count": 20,
   "metadata": {},
   "outputs": [
    {
     "data": {
      "text/plain": [
       "0"
      ]
     },
     "execution_count": 20,
     "metadata": {},
     "output_type": "execute_result"
    }
   ],
   "source": [
    "isMale(\"khaleesi\")"
   ]
  },
  {
   "cell_type": "code",
   "execution_count": 21,
   "metadata": {
    "scrolled": true
   },
   "outputs": [
    {
     "name": "stdout",
     "output_type": "stream",
     "text": [
      "2019-11-01 12:06:20,237 loading file C:\\Users\\Hp\\.flair\\models\\en-ner-conll03-v0.4.pt\n",
      "John 1\n",
      "Danny 0\n"
     ]
    },
    {
     "data": {
      "text/plain": [
       "(['John'], ['Danny'], ['John loves his aunt Danny.'])"
      ]
     },
     "execution_count": 21,
     "metadata": {},
     "output_type": "execute_result"
    }
   ],
   "source": [
    "namesAndSentences(\"John loves his aunt Danny.\")"
   ]
  },
  {
   "cell_type": "markdown",
   "metadata": {},
   "source": [
    "# Coreference Resolution"
   ]
  },
  {
   "cell_type": "markdown",
   "metadata": {},
   "source": [
    "https://github.com/huggingface/neuralcoref"
   ]
  },
  {
   "cell_type": "code",
   "execution_count": 22,
   "metadata": {},
   "outputs": [],
   "source": [
    "#!pip uninstall spacy\n",
    "#!pip install -U spacy==2.1.0\n",
    "#!python -m spacy download en\n",
    "#!python -m spacy download en_core_web_lg\n",
    "#!python -m spacy download en_core_web_md\n",
    "#!pip install neuralcoref --no-binary neuralcoref"
   ]
  },
  {
   "cell_type": "code",
   "execution_count": 23,
   "metadata": {
    "scrolled": true
   },
   "outputs": [],
   "source": [
    "# Load your usual SpaCy model (one of SpaCy English models)\n",
    "import spacy\n",
    "nlp = spacy.load('en_core_web_lg') # en_core_web_sm #en_core_web_md"
   ]
  },
  {
   "cell_type": "code",
   "execution_count": 24,
   "metadata": {},
   "outputs": [
    {
     "data": {
      "text/plain": [
       "<spacy.lang.en.English at 0x2678283bd30>"
      ]
     },
     "execution_count": 24,
     "metadata": {},
     "output_type": "execute_result"
    }
   ],
   "source": [
    "# Add neural coref to SpaCy's pipe\n",
    "import neuralcoref\n",
    "neuralcoref.add_to_pipe(nlp)"
   ]
  },
  {
   "cell_type": "code",
   "execution_count": 40,
   "metadata": {},
   "outputs": [],
   "source": [
    "s = \"The day was a stunning turn in a drama that has riveted Capitol Hill, and the nation, since Ms. Pelosi announced last month that House Democrats would begin an impeachment investigation into whether Md Mahmudul Hasan abused his power to pressure Ukraine to smear his political rivals, declaring that he had betrayed his oath of office.\""
   ]
  },
  {
   "cell_type": "code",
   "execution_count": 37,
   "metadata": {
    "scrolled": false
   },
   "outputs": [
    {
     "data": {
      "text/plain": [
       "[Md. Mahmudul Hasan: [Md. Mahmudul Hasan, his, his, he, his]]"
      ]
     },
     "execution_count": 37,
     "metadata": {},
     "output_type": "execute_result"
    }
   ],
   "source": [
    "#s = 'My sister has a dog. She loves him. My sister Jennifer Anderston also loves her cousin Tom.'\n",
    "#s = \"Iron Man is the hero, the legend, he is the bright star in the dark night. He is Iron Man\"\n",
    "#s = \"Tony Stark and Steve Rogers are fighting over a futile argument. Although he is right, he is also right.\"\n",
    "#s = ' '.join(\"Masum is the assistant of Timmothy Stark. Masum doesn't like Timmothy. He says she is too arrogant.\".split())\n",
    "doc = nlp(s)\n",
    "\n",
    "doc._.has_coref\n",
    "doc._.coref_clusters"
   ]
  },
  {
   "cell_type": "code",
   "execution_count": 38,
   "metadata": {},
   "outputs": [
    {
     "data": {
      "text/plain": [
       "[Md. Mahmudul Hasan: [Md. Mahmudul Hasan, his, his, he, his]]"
      ]
     },
     "execution_count": 38,
     "metadata": {},
     "output_type": "execute_result"
    }
   ],
   "source": [
    "doc._.coref_clusters"
   ]
  },
  {
   "cell_type": "code",
   "execution_count": 28,
   "metadata": {
    "scrolled": false
   },
   "outputs": [
    {
     "data": {
      "text/plain": [
       "'The day was a stunning turn in a drama that has riveted Capitol Hill, and the nation, since Ms. Pelosi announced last month that House Democrats would begin an impeachment investigation into whether Mr. Trump abused Mr. Trump power to pressure Ukraine to smear Mr. Trump political rivals, declaring that Mr. Trump had betrayed Mr. Trump oath of office.'"
      ]
     },
     "execution_count": 28,
     "metadata": {},
     "output_type": "execute_result"
    }
   ],
   "source": [
    "doc._.coref_resolved"
   ]
  },
  {
   "cell_type": "code",
   "execution_count": 29,
   "metadata": {
    "scrolled": true
   },
   "outputs": [
    {
     "data": {
      "text/plain": [
       "{The day: {The day: 1.6528035402297974},\n",
       " a stunning turn in a drama that has riveted Capitol Hill, and the nation: {a stunning turn in a drama that has riveted Capitol Hill, and the nation: 1.6945959329605103,\n",
       "  The day: -1.4853355884552002},\n",
       " a drama that has riveted Capitol Hill, and the nation: {a drama that has riveted Capitol Hill, and the nation: 1.6887861490249634,\n",
       "  The day: -1.4931750297546387,\n",
       "  a stunning turn in a drama that has riveted Capitol Hill, and the nation: -1.492845892906189},\n",
       " Capitol Hill: {Capitol Hill: 1.7766371965408325,\n",
       "  The day: -1.7455644607543945,\n",
       "  a stunning turn in a drama that has riveted Capitol Hill, and the nation: -1.579420804977417,\n",
       "  a drama that has riveted Capitol Hill, and the nation: -1.5688385963439941},\n",
       " the nation: {the nation: 1.0320000648498535,\n",
       "  The day: -1.6379655599594116,\n",
       "  a stunning turn in a drama that has riveted Capitol Hill, and the nation: -1.6414026021957397,\n",
       "  a drama that has riveted Capitol Hill, and the nation: -1.6240947246551514,\n",
       "  Capitol Hill: -1.7035216093063354},\n",
       " Ms. Pelosi: {Ms. Pelosi: 0.8931622505187988,\n",
       "  The day: -1.8589410781860352,\n",
       "  a stunning turn in a drama that has riveted Capitol Hill, and the nation: -1.817598581314087,\n",
       "  a drama that has riveted Capitol Hill, and the nation: -1.782905101776123,\n",
       "  Capitol Hill: -1.8141528367996216,\n",
       "  the nation: -2.535597324371338},\n",
       " Pelosi: {Pelosi: 3.0942187309265137,\n",
       "  The day: -1.658837080001831,\n",
       "  a stunning turn in a drama that has riveted Capitol Hill, and the nation: -1.6501843929290771,\n",
       "  a drama that has riveted Capitol Hill, and the nation: -1.679486870765686,\n",
       "  Capitol Hill: -1.6533551216125488,\n",
       "  the nation: -1.9707694053649902,\n",
       "  Ms. Pelosi: -1.6071200370788574},\n",
       " Ms. Pelosi announced last month that House Democrats would begin an impeachment investigation into whether Mr. Trump abused his power to pressure Ukraine to smear his political rivals, declaring that he had betrayed his oath of office: {Ms. Pelosi announced last month that House Democrats would begin an impeachment investigation into whether Mr. Trump abused his power to pressure Ukraine to smear his political rivals, declaring that he had betrayed his oath of office: 2.024449348449707,\n",
       "  The day: -1.5618665218353271,\n",
       "  a stunning turn in a drama that has riveted Capitol Hill, and the nation: -1.5826181173324585,\n",
       "  a drama that has riveted Capitol Hill, and the nation: -1.5124095678329468,\n",
       "  Capitol Hill: -1.6243507862091064,\n",
       "  the nation: -1.8092255592346191,\n",
       "  Ms. Pelosi: -1.9668912887573242,\n",
       "  Pelosi: -1.8718149662017822},\n",
       " last month: {last month: 1.7705637216567993,\n",
       "  The day: -1.4948581457138062,\n",
       "  a stunning turn in a drama that has riveted Capitol Hill, and the nation: -1.546994924545288,\n",
       "  a drama that has riveted Capitol Hill, and the nation: -1.5207349061965942,\n",
       "  Capitol Hill: -1.5558334589004517,\n",
       "  the nation: -2.1283745765686035,\n",
       "  Ms. Pelosi: -2.328202247619629,\n",
       "  Pelosi: -1.8649933338165283,\n",
       "  Ms. Pelosi announced last month that House Democrats would begin an impeachment investigation into whether Mr. Trump abused his power to pressure Ukraine to smear his political rivals, declaring that he had betrayed his oath of office: -1.57144296169281},\n",
       " House: {House: 1.5751618146896362,\n",
       "  The day: -1.5417742729187012,\n",
       "  a stunning turn in a drama that has riveted Capitol Hill, and the nation: -1.6155802011489868,\n",
       "  a drama that has riveted Capitol Hill, and the nation: -1.559790849685669,\n",
       "  Capitol Hill: -1.6450111865997314,\n",
       "  the nation: -1.9760526418685913,\n",
       "  Ms. Pelosi: -2.294370412826538,\n",
       "  Pelosi: -1.9316201210021973,\n",
       "  Ms. Pelosi announced last month that House Democrats would begin an impeachment investigation into whether Mr. Trump abused his power to pressure Ukraine to smear his political rivals, declaring that he had betrayed his oath of office: -1.6011018753051758,\n",
       "  last month: -1.5930345058441162},\n",
       " House Democrats: {House Democrats: 1.1607362031936646,\n",
       "  The day: -1.5624977350234985,\n",
       "  a stunning turn in a drama that has riveted Capitol Hill, and the nation: -1.6462700366973877,\n",
       "  a drama that has riveted Capitol Hill, and the nation: -1.5711872577667236,\n",
       "  Capitol Hill: -1.7114330530166626,\n",
       "  the nation: -1.9717329740524292,\n",
       "  Ms. Pelosi: -2.4278690814971924,\n",
       "  Pelosi: -2.203040361404419,\n",
       "  Ms. Pelosi announced last month that House Democrats would begin an impeachment investigation into whether Mr. Trump abused his power to pressure Ukraine to smear his political rivals, declaring that he had betrayed his oath of office: -1.5672496557235718,\n",
       "  last month: -1.5757781267166138,\n",
       "  House: -1.5503648519515991},\n",
       " Democrats: {Democrats: 2.2495923042297363,\n",
       "  The day: -1.5711113214492798,\n",
       "  a stunning turn in a drama that has riveted Capitol Hill, and the nation: -1.6116371154785156,\n",
       "  a drama that has riveted Capitol Hill, and the nation: -1.5814363956451416,\n",
       "  Capitol Hill: -1.6700046062469482,\n",
       "  the nation: -1.7121362686157227,\n",
       "  Ms. Pelosi: -2.53080415725708,\n",
       "  Pelosi: -2.30482816696167,\n",
       "  Ms. Pelosi announced last month that House Democrats would begin an impeachment investigation into whether Mr. Trump abused his power to pressure Ukraine to smear his political rivals, declaring that he had betrayed his oath of office: -1.5607049465179443,\n",
       "  last month: -1.5612878799438477,\n",
       "  House: -1.618971347808838,\n",
       "  House Democrats: -1.5023531913757324},\n",
       " House Democrats would begin an impeachment investigation into whether Mr. Trump abused his power to pressure Ukraine to smear his political rivals, declaring that he had betrayed his oath of office: {House Democrats would begin an impeachment investigation into whether Mr. Trump abused his power to pressure Ukraine to smear his political rivals, declaring that he had betrayed his oath of office: 1.8591216802597046,\n",
       "  The day: -1.4965972900390625,\n",
       "  a stunning turn in a drama that has riveted Capitol Hill, and the nation: -1.584228277206421,\n",
       "  a drama that has riveted Capitol Hill, and the nation: -1.510696530342102,\n",
       "  Capitol Hill: -1.5520727634429932,\n",
       "  the nation: -1.7605746984481812,\n",
       "  Ms. Pelosi: -2.4251291751861572,\n",
       "  Pelosi: -2.101551055908203,\n",
       "  Ms. Pelosi announced last month that House Democrats would begin an impeachment investigation into whether Mr. Trump abused his power to pressure Ukraine to smear his political rivals, declaring that he had betrayed his oath of office: -1.5012993812561035,\n",
       "  last month: -1.5044993162155151,\n",
       "  House: -1.5064903497695923,\n",
       "  House Democrats: -1.5091831684112549,\n",
       "  Democrats: -1.5261014699935913},\n",
       " an impeachment investigation into whether Mr. Trump abused his power to pressure Ukraine to smear his political rivals, declaring that he had betrayed his oath of office: {an impeachment investigation into whether Mr. Trump abused his power to pressure Ukraine to smear his political rivals, declaring that he had betrayed his oath of office: 1.7602330446243286,\n",
       "  The day: -1.497840404510498,\n",
       "  a stunning turn in a drama that has riveted Capitol Hill, and the nation: -1.518415093421936,\n",
       "  a drama that has riveted Capitol Hill, and the nation: -1.5033129453659058,\n",
       "  Capitol Hill: -1.5253366231918335,\n",
       "  the nation: -1.7384672164916992,\n",
       "  Ms. Pelosi: -2.217114210128784,\n",
       "  Pelosi: -1.980751395225525,\n",
       "  Ms. Pelosi announced last month that House Democrats would begin an impeachment investigation into whether Mr. Trump abused his power to pressure Ukraine to smear his political rivals, declaring that he had betrayed his oath of office: -1.4917064905166626,\n",
       "  last month: -1.5084370374679565,\n",
       "  House: -1.5451135635375977,\n",
       "  House Democrats: -1.5242624282836914,\n",
       "  Democrats: -1.5453557968139648,\n",
       "  House Democrats would begin an impeachment investigation into whether Mr. Trump abused his power to pressure Ukraine to smear his political rivals, declaring that he had betrayed his oath of office: -1.4913346767425537},\n",
       " Mr. Trump: {Mr. Trump: -0.42108985781669617,\n",
       "  The day: -2.0868031978607178,\n",
       "  a stunning turn in a drama that has riveted Capitol Hill, and the nation: -1.6970484256744385,\n",
       "  a drama that has riveted Capitol Hill, and the nation: -1.660215139389038,\n",
       "  Capitol Hill: -2.0502593517303467,\n",
       "  the nation: -2.3784377574920654,\n",
       "  Ms. Pelosi: -2.629485607147217,\n",
       "  Pelosi: -2.093728542327881,\n",
       "  Ms. Pelosi announced last month that House Democrats would begin an impeachment investigation into whether Mr. Trump abused his power to pressure Ukraine to smear his political rivals, declaring that he had betrayed his oath of office: -1.8543686866760254,\n",
       "  last month: -1.8772222995758057,\n",
       "  House: -2.1036159992218018,\n",
       "  House Democrats: -2.0724868774414062,\n",
       "  Democrats: -2.0967442989349365,\n",
       "  House Democrats would begin an impeachment investigation into whether Mr. Trump abused his power to pressure Ukraine to smear his political rivals, declaring that he had betrayed his oath of office: -1.6624335050582886,\n",
       "  an impeachment investigation into whether Mr. Trump abused his power to pressure Ukraine to smear his political rivals, declaring that he had betrayed his oath of office: -1.6799938678741455},\n",
       " Trump: {Trump: 3.109384059906006,\n",
       "  The day: -1.6119998693466187,\n",
       "  a stunning turn in a drama that has riveted Capitol Hill, and the nation: -1.6022794246673584,\n",
       "  a drama that has riveted Capitol Hill, and the nation: -1.5650733709335327,\n",
       "  Capitol Hill: -1.6469438076019287,\n",
       "  the nation: -1.8227273225784302,\n",
       "  Ms. Pelosi: -2.2847695350646973,\n",
       "  Pelosi: -2.049776077270508,\n",
       "  Ms. Pelosi announced last month that House Democrats would begin an impeachment investigation into whether Mr. Trump abused his power to pressure Ukraine to smear his political rivals, declaring that he had betrayed his oath of office: -1.6705635786056519,\n",
       "  last month: -1.6443710327148438,\n",
       "  House: -1.8518733978271484,\n",
       "  House Democrats: -1.7410569190979004,\n",
       "  Democrats: -1.6568540334701538,\n",
       "  House Democrats would begin an impeachment investigation into whether Mr. Trump abused his power to pressure Ukraine to smear his political rivals, declaring that he had betrayed his oath of office: -1.5540672540664673,\n",
       "  an impeachment investigation into whether Mr. Trump abused his power to pressure Ukraine to smear his political rivals, declaring that he had betrayed his oath of office: -1.5564706325531006,\n",
       "  Mr. Trump: -1.7342736721038818},\n",
       " Mr. Trump abused his power to pressure Ukraine to smear his political rivals, declaring that he had betrayed his oath of office: {Mr. Trump abused his power to pressure Ukraine to smear his political rivals, declaring that he had betrayed his oath of office: 2.218257427215576,\n",
       "  The day: -1.5339946746826172,\n",
       "  a stunning turn in a drama that has riveted Capitol Hill, and the nation: -1.6059269905090332,\n",
       "  a drama that has riveted Capitol Hill, and the nation: -1.52423095703125,\n",
       "  Capitol Hill: -1.6748340129852295,\n",
       "  the nation: -1.9407888650894165,\n",
       "  Ms. Pelosi: -2.3564937114715576,\n",
       "  Pelosi: -1.909577488899231,\n",
       "  Ms. Pelosi announced last month that House Democrats would begin an impeachment investigation into whether Mr. Trump abused his power to pressure Ukraine to smear his political rivals, declaring that he had betrayed his oath of office: -1.5469988584518433,\n",
       "  last month: -1.5462619066238403,\n",
       "  House: -1.7825846672058105,\n",
       "  House Democrats: -1.6254162788391113,\n",
       "  Democrats: -1.5974879264831543,\n",
       "  House Democrats would begin an impeachment investigation into whether Mr. Trump abused his power to pressure Ukraine to smear his political rivals, declaring that he had betrayed his oath of office: -1.5073800086975098,\n",
       "  an impeachment investigation into whether Mr. Trump abused his power to pressure Ukraine to smear his political rivals, declaring that he had betrayed his oath of office: -1.5096864700317383,\n",
       "  Mr. Trump: -1.8569141626358032,\n",
       "  Trump: -1.613726258277893},\n",
       " his: {his: -0.5757614374160767,\n",
       "  The day: -1.855881690979004,\n",
       "  a stunning turn in a drama that has riveted Capitol Hill, and the nation: -1.681771993637085,\n",
       "  a drama that has riveted Capitol Hill, and the nation: -1.6391994953155518,\n",
       "  Capitol Hill: -2.048609733581543,\n",
       "  the nation: -2.60801100730896,\n",
       "  Ms. Pelosi: -2.238494634628296,\n",
       "  Pelosi: -1.7383100986480713,\n",
       "  Ms. Pelosi announced last month that House Democrats would begin an impeachment investigation into whether Mr. Trump abused his power to pressure Ukraine to smear his political rivals, declaring that he had betrayed his oath of office: -1.8034539222717285,\n",
       "  last month: -1.690189003944397,\n",
       "  House: -2.183652400970459,\n",
       "  House Democrats: -1.2353854179382324,\n",
       "  Democrats: -1.9050111770629883,\n",
       "  House Democrats would begin an impeachment investigation into whether Mr. Trump abused his power to pressure Ukraine to smear his political rivals, declaring that he had betrayed his oath of office: -1.616732120513916,\n",
       "  an impeachment investigation into whether Mr. Trump abused his power to pressure Ukraine to smear his political rivals, declaring that he had betrayed his oath of office: -1.580593466758728,\n",
       "  Mr. Trump: 5.353621482849121,\n",
       "  Trump: 1.3643085956573486,\n",
       "  Mr. Trump abused his power to pressure Ukraine to smear his political rivals, declaring that he had betrayed his oath of office: -1.7208763360977173},\n",
       " his power: {his power: 1.8151816129684448,\n",
       "  The day: -1.5311188697814941,\n",
       "  a stunning turn in a drama that has riveted Capitol Hill, and the nation: -1.6129376888275146,\n",
       "  a drama that has riveted Capitol Hill, and the nation: -1.5263259410858154,\n",
       "  Capitol Hill: -1.6300256252288818,\n",
       "  the nation: -2.073397397994995,\n",
       "  Ms. Pelosi: -2.7858188152313232,\n",
       "  Pelosi: -2.289076566696167,\n",
       "  Ms. Pelosi announced last month that House Democrats would begin an impeachment investigation into whether Mr. Trump abused his power to pressure Ukraine to smear his political rivals, declaring that he had betrayed his oath of office: -1.658040165901184,\n",
       "  last month: -1.5148835182189941,\n",
       "  House: -1.9477380514144897,\n",
       "  House Democrats: -1.7936062812805176,\n",
       "  Democrats: -1.6820098161697388,\n",
       "  House Democrats would begin an impeachment investigation into whether Mr. Trump abused his power to pressure Ukraine to smear his political rivals, declaring that he had betrayed his oath of office: -1.586322546005249,\n",
       "  an impeachment investigation into whether Mr. Trump abused his power to pressure Ukraine to smear his political rivals, declaring that he had betrayed his oath of office: -1.5836635828018188,\n",
       "  Mr. Trump: -2.4623780250549316,\n",
       "  Trump: -1.7662543058395386,\n",
       "  Mr. Trump abused his power to pressure Ukraine to smear his political rivals, declaring that he had betrayed his oath of office: -1.64443838596344,\n",
       "  his: -2.7097132205963135},\n",
       " Ukraine: {Ukraine: 1.1336249113082886,\n",
       "  The day: -1.6021277904510498,\n",
       "  a stunning turn in a drama that has riveted Capitol Hill, and the nation: -1.713050365447998,\n",
       "  a drama that has riveted Capitol Hill, and the nation: -1.6336196660995483,\n",
       "  Capitol Hill: -1.8211743831634521,\n",
       "  the nation: -1.6763861179351807,\n",
       "  Ms. Pelosi: -2.644084930419922,\n",
       "  Pelosi: -2.5693740844726562,\n",
       "  Ms. Pelosi announced last month that House Democrats would begin an impeachment investigation into whether Mr. Trump abused his power to pressure Ukraine to smear his political rivals, declaring that he had betrayed his oath of office: -1.7415204048156738,\n",
       "  last month: -1.6765615940093994,\n",
       "  House: -1.962520718574524,\n",
       "  House Democrats: -1.824735164642334,\n",
       "  Democrats: -1.8288345336914062,\n",
       "  House Democrats would begin an impeachment investigation into whether Mr. Trump abused his power to pressure Ukraine to smear his political rivals, declaring that he had betrayed his oath of office: -1.6613842248916626,\n",
       "  an impeachment investigation into whether Mr. Trump abused his power to pressure Ukraine to smear his political rivals, declaring that he had betrayed his oath of office: -1.6951491832733154,\n",
       "  Mr. Trump: -2.7329063415527344,\n",
       "  Trump: -2.1144661903381348,\n",
       "  Mr. Trump abused his power to pressure Ukraine to smear his political rivals, declaring that he had betrayed his oath of office: -1.7584415674209595,\n",
       "  his: -3.3326914310455322,\n",
       "  his power: -1.656057357788086},\n",
       " his: {his: -0.47388285398483276,\n",
       "  The day: -1.9750038385391235,\n",
       "  a stunning turn in a drama that has riveted Capitol Hill, and the nation: -1.849660038948059,\n",
       "  a drama that has riveted Capitol Hill, and the nation: -1.824381709098816,\n",
       "  Capitol Hill: -2.131072521209717,\n",
       "  the nation: -2.6612136363983154,\n",
       "  Ms. Pelosi: -2.182499885559082,\n",
       "  Pelosi: -1.7263193130493164,\n",
       "  Ms. Pelosi announced last month that House Democrats would begin an impeachment investigation into whether Mr. Trump abused his power to pressure Ukraine to smear his political rivals, declaring that he had betrayed his oath of office: -1.8865317106246948,\n",
       "  last month: -1.7320865392684937,\n",
       "  House: -2.257763147354126,\n",
       "  House Democrats: -1.7681751251220703,\n",
       "  Democrats: -2.094456195831299,\n",
       "  House Democrats would begin an impeachment investigation into whether Mr. Trump abused his power to pressure Ukraine to smear his political rivals, declaring that he had betrayed his oath of office: -1.6922563314437866,\n",
       "  an impeachment investigation into whether Mr. Trump abused his power to pressure Ukraine to smear his political rivals, declaring that he had betrayed his oath of office: -1.7112090587615967,\n",
       "  Mr. Trump: 3.8093879222869873,\n",
       "  Trump: -1.4590204954147339,\n",
       "  Mr. Trump abused his power to pressure Ukraine to smear his political rivals, declaring that he had betrayed his oath of office: -1.6152105331420898,\n",
       "  his: 5.575077056884766,\n",
       "  his power: -1.894087791442871,\n",
       "  Ukraine: -2.546597957611084},\n",
       " his political rivals: {his political rivals: 1.7474926710128784,\n",
       "  The day: -1.504982829093933,\n",
       "  a stunning turn in a drama that has riveted Capitol Hill, and the nation: -1.5418164730072021,\n",
       "  a drama that has riveted Capitol Hill, and the nation: -1.5164579153060913,\n",
       "  Capitol Hill: -1.5962550640106201,\n",
       "  the nation: -2.147158622741699,\n",
       "  Ms. Pelosi: -2.5529401302337646,\n",
       "  Pelosi: -2.0945863723754883,\n",
       "  Ms. Pelosi announced last month that House Democrats would begin an impeachment investigation into whether Mr. Trump abused his power to pressure Ukraine to smear his political rivals, declaring that he had betrayed his oath of office: -1.5295804738998413,\n",
       "  last month: -1.503113865852356,\n",
       "  House: -1.7298555374145508,\n",
       "  House Democrats: -1.5790339708328247,\n",
       "  Democrats: -1.5345585346221924,\n",
       "  House Democrats would begin an impeachment investigation into whether Mr. Trump abused his power to pressure Ukraine to smear his political rivals, declaring that he had betrayed his oath of office: -1.5119287967681885,\n",
       "  an impeachment investigation into whether Mr. Trump abused his power to pressure Ukraine to smear his political rivals, declaring that he had betrayed his oath of office: -1.5130088329315186,\n",
       "  Mr. Trump: -2.636376142501831,\n",
       "  Trump: -1.7904982566833496,\n",
       "  Mr. Trump abused his power to pressure Ukraine to smear his political rivals, declaring that he had betrayed his oath of office: -1.5215389728546143,\n",
       "  his: -3.5135295391082764,\n",
       "  his power: -1.5035945177078247,\n",
       "  Ukraine: -1.7292042970657349,\n",
       "  his: -3.0966296195983887},\n",
       " he: {he: 0.49037110805511475,\n",
       "  The day: -1.9998869895935059,\n",
       "  a stunning turn in a drama that has riveted Capitol Hill, and the nation: -1.7271366119384766,\n",
       "  a drama that has riveted Capitol Hill, and the nation: -1.6866415739059448,\n",
       "  Capitol Hill: -2.082714557647705,\n",
       "  the nation: -2.8921844959259033,\n",
       "  Ms. Pelosi: -2.3653335571289062,\n",
       "  Pelosi: -1.5503809452056885,\n",
       "  Ms. Pelosi announced last month that House Democrats would begin an impeachment investigation into whether Mr. Trump abused his power to pressure Ukraine to smear his political rivals, declaring that he had betrayed his oath of office: -1.856358528137207,\n",
       "  last month: -1.733097791671753,\n",
       "  House: -2.3987932205200195,\n",
       "  House Democrats: -1.967047929763794,\n",
       "  Democrats: -2.1810851097106934,\n",
       "  House Democrats would begin an impeachment investigation into whether Mr. Trump abused his power to pressure Ukraine to smear his political rivals, declaring that he had betrayed his oath of office: -1.640739917755127,\n",
       "  an impeachment investigation into whether Mr. Trump abused his power to pressure Ukraine to smear his political rivals, declaring that he had betrayed his oath of office: -1.6474294662475586,\n",
       "  Mr. Trump: 2.1440961360931396,\n",
       "  Trump: -1.6285481452941895,\n",
       "  Mr. Trump abused his power to pressure Ukraine to smear his political rivals, declaring that he had betrayed his oath of office: -1.7557880878448486,\n",
       "  his: 3.6397898197174072,\n",
       "  his power: -1.7808300256729126,\n",
       "  Ukraine: -2.62970232963562,\n",
       "  his: 5.965611457824707,\n",
       "  his political rivals: -1.9841856956481934},\n",
       " he had betrayed his oath of office: {he had betrayed his oath of office: 1.5487779378890991,\n",
       "  The day: -1.5062147378921509,\n",
       "  a stunning turn in a drama that has riveted Capitol Hill, and the nation: -1.5213090181350708,\n",
       "  a drama that has riveted Capitol Hill, and the nation: -1.523262858390808,\n",
       "  Capitol Hill: -1.5601584911346436,\n",
       "  the nation: -1.885625958442688,\n",
       "  Ms. Pelosi: -1.915626883506775,\n",
       "  Pelosi: -1.622579574584961,\n",
       "  Ms. Pelosi announced last month that House Democrats would begin an impeachment investigation into whether Mr. Trump abused his power to pressure Ukraine to smear his political rivals, declaring that he had betrayed his oath of office: -1.5215508937835693,\n",
       "  last month: -1.5243566036224365,\n",
       "  House: -1.5934104919433594,\n",
       "  House Democrats: -1.5367565155029297,\n",
       "  Democrats: -1.5923779010772705,\n",
       "  House Democrats would begin an impeachment investigation into whether Mr. Trump abused his power to pressure Ukraine to smear his political rivals, declaring that he had betrayed his oath of office: -1.4997307062149048,\n",
       "  an impeachment investigation into whether Mr. Trump abused his power to pressure Ukraine to smear his political rivals, declaring that he had betrayed his oath of office: -1.504105806350708,\n",
       "  Mr. Trump: -1.9596198797225952,\n",
       "  Trump: -1.5907272100448608,\n",
       "  Mr. Trump abused his power to pressure Ukraine to smear his political rivals, declaring that he had betrayed his oath of office: -1.5046002864837646,\n",
       "  his: -2.335036277770996,\n",
       "  his power: -1.5206071138381958,\n",
       "  Ukraine: -1.6378451585769653,\n",
       "  his: -2.3970305919647217,\n",
       "  his political rivals: -1.5114151239395142,\n",
       "  he: -1.7242510318756104},\n",
       " his: {his: -0.13656216859817505,\n",
       "  The day: -2.1011762619018555,\n",
       "  a stunning turn in a drama that has riveted Capitol Hill, and the nation: -1.8093690872192383,\n",
       "  a drama that has riveted Capitol Hill, and the nation: -1.7710275650024414,\n",
       "  Capitol Hill: -2.200857162475586,\n",
       "  the nation: -2.8762388229370117,\n",
       "  Ms. Pelosi: -2.3185763359069824,\n",
       "  Pelosi: -1.7712715864181519,\n",
       "  Ms. Pelosi announced last month that House Democrats would begin an impeachment investigation into whether Mr. Trump abused his power to pressure Ukraine to smear his political rivals, declaring that he had betrayed his oath of office: -1.959822177886963,\n",
       "  last month: -1.8157825469970703,\n",
       "  House: -2.2826764583587646,\n",
       "  House Democrats: -1.4988768100738525,\n",
       "  Democrats: -2.0775740146636963,\n",
       "  House Democrats would begin an impeachment investigation into whether Mr. Trump abused his power to pressure Ukraine to smear his political rivals, declaring that he had betrayed his oath of office: -1.651052713394165,\n",
       "  an impeachment investigation into whether Mr. Trump abused his power to pressure Ukraine to smear his political rivals, declaring that he had betrayed his oath of office: -1.6427546739578247,\n",
       "  Mr. Trump: 3.7411324977874756,\n",
       "  Trump: -1.6307859420776367,\n",
       "  Mr. Trump abused his power to pressure Ukraine to smear his political rivals, declaring that he had betrayed his oath of office: -1.7229652404785156,\n",
       "  his: 5.369908332824707,\n",
       "  his power: -1.8690049648284912,\n",
       "  Ukraine: -2.8133246898651123,\n",
       "  his: 3.8142616748809814,\n",
       "  his political rivals: -1.794297695159912,\n",
       "  he: 8.966779708862305,\n",
       "  he had betrayed his oath of office: -1.7365200519561768},\n",
       " his oath of office: {his oath of office: 1.703560709953308,\n",
       "  The day: -1.5118694305419922,\n",
       "  a stunning turn in a drama that has riveted Capitol Hill, and the nation: -1.5437363386154175,\n",
       "  a drama that has riveted Capitol Hill, and the nation: -1.5302495956420898,\n",
       "  Capitol Hill: -1.5578229427337646,\n",
       "  the nation: -1.8192013502120972,\n",
       "  Ms. Pelosi: -2.1093385219573975,\n",
       "  Pelosi: -1.6984591484069824,\n",
       "  Ms. Pelosi announced last month that House Democrats would begin an impeachment investigation into whether Mr. Trump abused his power to pressure Ukraine to smear his political rivals, declaring that he had betrayed his oath of office: -1.5396573543548584,\n",
       "  last month: -1.5356322526931763,\n",
       "  House: -1.6154338121414185,\n",
       "  House Democrats: -1.5532069206237793,\n",
       "  Democrats: -1.586788535118103,\n",
       "  House Democrats would begin an impeachment investigation into whether Mr. Trump abused his power to pressure Ukraine to smear his political rivals, declaring that he had betrayed his oath of office: -1.5102611780166626,\n",
       "  an impeachment investigation into whether Mr. Trump abused his power to pressure Ukraine to smear his political rivals, declaring that he had betrayed his oath of office: -1.5105040073394775,\n",
       "  Mr. Trump: -2.1817636489868164,\n",
       "  Trump: -1.6751347780227661,\n",
       "  Mr. Trump abused his power to pressure Ukraine to smear his political rivals, declaring that he had betrayed his oath of office: -1.51296865940094,\n",
       "  his: -2.6915135383605957,\n",
       "  his power: -1.5336323976516724,\n",
       "  Ukraine: -1.7507004737854004,\n",
       "  his: -2.785691499710083,\n",
       "  his political rivals: -1.5167932510375977,\n",
       "  he: -2.428593873977661,\n",
       "  he had betrayed his oath of office: -1.5030343532562256,\n",
       "  his: -1.9883947372436523},\n",
       " office: {office: 1.6412640810012817,\n",
       "  The day: -1.496142029762268,\n",
       "  a stunning turn in a drama that has riveted Capitol Hill, and the nation: -1.5332485437393188,\n",
       "  a drama that has riveted Capitol Hill, and the nation: -1.5181052684783936,\n",
       "  Capitol Hill: -1.5163781642913818,\n",
       "  the nation: -1.7224390506744385,\n",
       "  Ms. Pelosi: -1.9933851957321167,\n",
       "  Pelosi: -1.7261191606521606,\n",
       "  Ms. Pelosi announced last month that House Democrats would begin an impeachment investigation into whether Mr. Trump abused his power to pressure Ukraine to smear his political rivals, declaring that he had betrayed his oath of office: -1.5332155227661133,\n",
       "  last month: -1.5151039361953735,\n",
       "  House: -1.556488037109375,\n",
       "  House Democrats: -1.533286213874817,\n",
       "  Democrats: -1.5504485368728638,\n",
       "  House Democrats would begin an impeachment investigation into whether Mr. Trump abused his power to pressure Ukraine to smear his political rivals, declaring that he had betrayed his oath of office: -1.5067389011383057,\n",
       "  an impeachment investigation into whether Mr. Trump abused his power to pressure Ukraine to smear his political rivals, declaring that he had betrayed his oath of office: -1.507041096687317,\n",
       "  Mr. Trump: -1.907583475112915,\n",
       "  Trump: -1.553537130355835,\n",
       "  Mr. Trump abused his power to pressure Ukraine to smear his political rivals, declaring that he had betrayed his oath of office: -1.5152837038040161,\n",
       "  his: -2.5760674476623535,\n",
       "  his power: -1.5326004028320312,\n",
       "  Ukraine: -1.6255278587341309,\n",
       "  his: -2.814713478088379,\n",
       "  his political rivals: -1.5233221054077148,\n",
       "  he: -2.6540896892547607,\n",
       "  he had betrayed his oath of office: -1.503975749015808,\n",
       "  his: -2.468322992324829,\n",
       "  his oath of office: -1.5046095848083496}}"
      ]
     },
     "execution_count": 29,
     "metadata": {},
     "output_type": "execute_result"
    }
   ],
   "source": [
    "doc._.coref_scores"
   ]
  },
  {
   "cell_type": "code",
   "execution_count": 30,
   "metadata": {
    "scrolled": true
   },
   "outputs": [
    {
     "name": "stdout",
     "output_type": "stream",
     "text": [
      "The :  []\n",
      "day :  []\n",
      "was :  []\n",
      "a :  []\n",
      "stunning :  []\n",
      "turn :  []\n",
      "in :  []\n",
      "a :  []\n",
      "drama :  []\n",
      "that :  []\n",
      "has :  []\n",
      "riveted :  []\n",
      "Capitol :  []\n",
      "Hill :  []\n",
      ", :  []\n",
      "and :  []\n",
      "the :  []\n",
      "nation :  []\n",
      ", :  []\n",
      "since :  []\n",
      "Ms. :  []\n",
      "Pelosi :  []\n",
      "announced :  []\n",
      "last :  []\n",
      "month :  []\n",
      "that :  []\n",
      "House :  []\n",
      "Democrats :  []\n",
      "would :  []\n",
      "begin :  []\n",
      "an :  []\n",
      "impeachment :  []\n",
      "investigation :  []\n",
      "into :  []\n",
      "whether :  []\n",
      "Mr. :  [Mr. Trump: [Mr. Trump, his, his, he, his]]\n",
      "Trump :  [Mr. Trump: [Mr. Trump, his, his, he, his]]\n",
      "abused :  []\n",
      "his :  [Mr. Trump: [Mr. Trump, his, his, he, his]]\n",
      "power :  []\n",
      "to :  []\n",
      "pressure :  []\n",
      "Ukraine :  []\n",
      "to :  []\n",
      "smear :  []\n",
      "his :  [Mr. Trump: [Mr. Trump, his, his, he, his]]\n",
      "political :  []\n",
      "rivals :  []\n",
      ", :  []\n",
      "declaring :  []\n",
      "that :  []\n",
      "he :  [Mr. Trump: [Mr. Trump, his, his, he, his]]\n",
      "had :  []\n",
      "betrayed :  []\n",
      "his :  [Mr. Trump: [Mr. Trump, his, his, he, his]]\n",
      "oath :  []\n",
      "of :  []\n",
      "office :  []\n",
      ". :  []\n"
     ]
    }
   ],
   "source": [
    "for token in doc:\n",
    "    print(token.text, \": \", token._.coref_clusters)"
   ]
  },
  {
   "cell_type": "code",
   "execution_count": 31,
   "metadata": {
    "scrolled": false
   },
   "outputs": [
    {
     "name": "stdout",
     "output_type": "stream",
     "text": [
      "The day DATE\n",
      "Capitol Hill ORG\n",
      "Pelosi PERSON\n",
      "last month DATE\n",
      "House ORG\n",
      "Democrats NORP\n",
      "Trump PERSON\n",
      "Ukraine GPE\n"
     ]
    }
   ],
   "source": [
    "for entity in doc.ents:\n",
    "    print(entity.text, entity.label_)"
   ]
  },
  {
   "cell_type": "code",
   "execution_count": 51,
   "metadata": {},
   "outputs": [
    {
     "name": "stdout",
     "output_type": "stream",
     "text": [
      "2019-11-01 12:10:59,369 loading file C:\\Users\\Hp\\.flair\\models\\en-ner-conll03-v0.4.pt\n",
      "Masum 1\n"
     ]
    },
    {
     "data": {
      "text/plain": [
       "(['Masum'], [], ['Mst.', 'Masum is the boss'])"
      ]
     },
     "execution_count": 51,
     "metadata": {},
     "output_type": "execute_result"
    }
   ],
   "source": [
    "namesAndSentences(\"Mst Masum is the boss\")"
   ]
  },
  {
   "cell_type": "markdown",
   "metadata": {},
   "source": [
    "## Allennlp"
   ]
  },
  {
   "cell_type": "code",
   "execution_count": 67,
   "metadata": {
    "scrolled": true
   },
   "outputs": [
    {
     "name": "stdout",
     "output_type": "stream",
     "text": [
      "Requirement already up-to-date: torch in c:\\users\\hp\\appdata\\local\\programs\\python\\python36\\lib\\site-packages (1.1.0)\n",
      "Requirement already satisfied, skipping upgrade: numpy in c:\\users\\hp\\appdata\\local\\programs\\python\\python36\\lib\\site-packages (from torch) (1.16.3)\n"
     ]
    },
    {
     "name": "stderr",
     "output_type": "stream",
     "text": [
      "WARNING: You are using pip version 19.2.2, however version 19.3.1 is available.\n",
      "You should consider upgrading via the 'python -m pip install --upgrade pip' command.\n"
     ]
    }
   ],
   "source": [
    "#!pip install --upgrade torch"
   ]
  },
  {
   "cell_type": "code",
   "execution_count": 71,
   "metadata": {},
   "outputs": [
    {
     "name": "stdout",
     "output_type": "stream",
     "text": [
      "^C\n"
     ]
    }
   ],
   "source": [
    "#!pip3 install torch===1.3.0 torchvision===0.4.1 -f https://download.pytorch.org/whl/torch_stable.html"
   ]
  },
  {
   "cell_type": "code",
   "execution_count": 64,
   "metadata": {
    "scrolled": true
   },
   "outputs": [
    {
     "name": "stdout",
     "output_type": "stream",
     "text": [
      "Collecting allennlp\n",
      "  Downloading https://files.pythonhosted.org/packages/bb/bb/041115d8bad1447080e5d1e30097c95e4b66e36074277afce8620a61cee3/allennlp-0.9.0-py3-none-any.whl (7.6MB)\n",
      "Collecting parsimonious>=0.8.0 (from allennlp)\n",
      "  Downloading https://files.pythonhosted.org/packages/02/fc/067a3f89869a41009e1a7cdfb14725f8ddd246f30f63c645e8ef8a1c56f4/parsimonious-0.8.1.tar.gz (45kB)\n",
      "Requirement already satisfied: numpy in c:\\users\\hp\\appdata\\local\\programs\\python\\python36\\lib\\site-packages (from allennlp) (1.16.3)\n",
      "Collecting gevent>=1.3.6 (from allennlp)\n",
      "  Downloading https://files.pythonhosted.org/packages/51/97/2e1e8aa7ea27171c3e249480d382e78b49ab4cead5dafb2124d2a1b58a83/gevent-1.4.0-cp36-cp36m-win_amd64.whl (3.0MB)\n",
      "Requirement already satisfied: pytest in c:\\users\\hp\\appdata\\local\\programs\\python\\python36\\lib\\site-packages (from allennlp) (5.0.0)\n",
      "Collecting flask-cors>=3.0.7 (from allennlp)\n",
      "  Downloading https://files.pythonhosted.org/packages/78/38/e68b11daa5d613e3a91e4bf3da76c94ac9ee0d9cd515af9c1ab80d36f709/Flask_Cors-3.0.8-py2.py3-none-any.whl\n",
      "Collecting responses>=0.7 (from allennlp)\n",
      "  Downloading https://files.pythonhosted.org/packages/d1/5a/b887e89925f1de7890ef298a74438371ed4ed29b33def9e6d02dc6036fd8/responses-0.10.6-py2.py3-none-any.whl\n",
      "Collecting ftfy (from allennlp)\n",
      "  Downloading https://files.pythonhosted.org/packages/75/ca/2d9a5030eaf1bcd925dab392762b9709a7ad4bd486a90599d93cd79cb188/ftfy-5.6.tar.gz (58kB)\n",
      "Collecting numpydoc>=0.8.0 (from allennlp)\n",
      "  Downloading https://files.pythonhosted.org/packages/6a/f3/7cfe4c616e4b9fe05540256cc9c6661c052c8a4cec2915732793b36e1843/numpydoc-0.9.1.tar.gz\n",
      "Requirement already satisfied: h5py in c:\\users\\hp\\appdata\\local\\programs\\python\\python36\\lib\\site-packages (from allennlp) (2.9.0)\n",
      "Requirement already satisfied: tqdm>=4.19 in c:\\users\\hp\\appdata\\local\\programs\\python\\python36\\lib\\site-packages (from allennlp) (4.30.0)\n",
      "Requirement already satisfied: matplotlib>=2.2.3 in c:\\users\\hp\\appdata\\local\\programs\\python\\python36\\lib\\site-packages (from allennlp) (3.1.0)\n",
      "Requirement already satisfied: requests>=2.18 in c:\\users\\hp\\appdata\\local\\programs\\python\\python36\\lib\\site-packages (from allennlp) (2.22.0)\n",
      "Collecting overrides (from allennlp)\n",
      "  Downloading https://files.pythonhosted.org/packages/7a/b2/2cb6a3fc8ee1dc8617e07e476be19723748ddfcce0c6b9db7a5f2d5b9598/overrides-2.0.tar.gz\n",
      "Collecting editdistance (from allennlp)\n",
      "  Downloading https://files.pythonhosted.org/packages/09/c0/e3ee9a2344d333c1b6e66022297dad3ac20199e092f168bd53e8af966d29/editdistance-0.5.3-cp36-cp36m-win_amd64.whl\n",
      "Collecting torch>=1.2.0 (from allennlp)\n"
     ]
    },
    {
     "name": "stderr",
     "output_type": "stream",
     "text": [
      "  ERROR: Could not find a version that satisfies the requirement torch>=1.2.0 (from allennlp) (from versions: 0.1.2, 0.1.2.post1, 0.1.2.post2)\n",
      "ERROR: No matching distribution found for torch>=1.2.0 (from allennlp)\n",
      "WARNING: You are using pip version 19.2.2, however version 19.3.1 is available.\n",
      "You should consider upgrading via the 'python -m pip install --upgrade pip' command.\n"
     ]
    }
   ],
   "source": [
    "#!pip install allennlp"
   ]
  },
  {
   "cell_type": "code",
   "execution_count": 1,
   "metadata": {
    "scrolled": false
   },
   "outputs": [
    {
     "name": "stderr",
     "output_type": "stream",
     "text": [
      "_jsonnet not loaded, treating C:\\Users\\Hp\\AppData\\Local\\Temp\\tmps4s651v8\\config.json as json\n",
      "c:\\users\\hp\\appdata\\local\\programs\\python\\python36\\lib\\site-packages\\torch\\nn\\modules\\rnn.py:51: UserWarning: dropout option adds dropout after all but last recurrent layer, so non-zero dropout expects num_layers greater than 1, but got dropout=0.2 and num_layers=1\n",
      "  \"num_layers={}\".format(dropout, num_layers))\n",
      "c:\\users\\hp\\appdata\\local\\programs\\python\\python36\\lib\\site-packages\\allennlp\\data\\token_indexers\\token_characters_indexer.py:56: UserWarning: You are using the default value (0) of `min_padding_length`, which can cause some subtle bugs (more info see https://github.com/allenai/allennlp/issues/1954). Strongly recommend to set a value, usually the maximum size of the convolutional layer size when using CnnEncoder.\n",
      "  UserWarning)\n"
     ]
    }
   ],
   "source": [
    "from allennlp import pretrained\n",
    "model = pretrained.neural_coreference_resolution_lee_2017()"
   ]
  },
  {
   "cell_type": "code",
   "execution_count": 2,
   "metadata": {},
   "outputs": [],
   "source": [
    "s = ' '.join(\"Natasha Romanof is the assistant of Tony Stark. Natasha doesn't like Tony. She says he's too arrogant.\".split())"
   ]
  },
  {
   "cell_type": "code",
   "execution_count": 3,
   "metadata": {
    "scrolled": false
   },
   "outputs": [
    {
     "name": "stderr",
     "output_type": "stream",
     "text": [
      "WARNING:allennlp.models.model:Encountered the antecedent_indices key in the model's return dictionary which couldn't be split by the batch size. Key will be ignored.\n"
     ]
    }
   ],
   "source": [
    "results = model.predict(document=s)"
   ]
  },
  {
   "cell_type": "markdown",
   "metadata": {},
   "source": [
    "My dog has a sister . She likes him .\n",
    "0  1   2   3   4    5  6    7   8   9"
   ]
  },
  {
   "cell_type": "code",
   "execution_count": 4,
   "metadata": {
    "scrolled": true
   },
   "outputs": [
    {
     "data": {
      "text/plain": [
       "{'top_spans': [[0, 1],\n",
       "  [3, 7],\n",
       "  [6, 7],\n",
       "  [9, 9],\n",
       "  [13, 13],\n",
       "  [15, 15],\n",
       "  [16, 16],\n",
       "  [17, 17]],\n",
       " 'predicted_antecedents': [-1, -1, 1, 2, 1, 1, -1, 3],\n",
       " 'document': ['Natasha',\n",
       "  'Romanof',\n",
       "  'is',\n",
       "  'the',\n",
       "  'assistant',\n",
       "  'of',\n",
       "  'Tony',\n",
       "  'Stark',\n",
       "  '.',\n",
       "  'Natasha',\n",
       "  'does',\n",
       "  \"n't\",\n",
       "  'like',\n",
       "  'Tony',\n",
       "  '.',\n",
       "  'She',\n",
       "  'says',\n",
       "  'he',\n",
       "  \"'s\",\n",
       "  'too',\n",
       "  'arrogant',\n",
       "  '.'],\n",
       " 'clusters': [[[0, 1], [6, 7], [9, 9], [13, 13], [15, 15], [17, 17]]]}"
      ]
     },
     "execution_count": 4,
     "metadata": {},
     "output_type": "execute_result"
    }
   ],
   "source": [
    "results"
   ]
  },
  {
   "cell_type": "code",
   "execution_count": 5,
   "metadata": {
    "scrolled": true
   },
   "outputs": [
    {
     "name": "stdout",
     "output_type": "stream",
     "text": [
      "0 :  Natasha\n",
      "1 :  Romanof\n",
      "2 :  is\n",
      "3 :  the\n",
      "4 :  assistant\n",
      "5 :  of\n",
      "6 :  Tony\n",
      "7 :  Stark\n",
      "8 :  .\n",
      "9 :  Natasha\n",
      "10 :  does\n",
      "11 :  n't\n",
      "12 :  like\n",
      "13 :  Tony\n",
      "14 :  .\n",
      "15 :  She\n",
      "16 :  says\n",
      "17 :  he\n",
      "18 :  's\n",
      "19 :  too\n",
      "20 :  arrogant\n",
      "21 :  .\n"
     ]
    }
   ],
   "source": [
    "tokens = results['document']\n",
    "for i in range(len(tokens)):\n",
    "    print(i, \": \", tokens[i])"
   ]
  },
  {
   "cell_type": "code",
   "execution_count": 39,
   "metadata": {},
   "outputs": [
    {
     "data": {
      "text/plain": [
       "['Tom']"
      ]
     },
     "execution_count": 39,
     "metadata": {},
     "output_type": "execute_result"
    }
   ],
   "source": [
    "tokens[0:1]"
   ]
  },
  {
   "cell_type": "code",
   "execution_count": 35,
   "metadata": {
    "scrolled": false
   },
   "outputs": [
    {
     "data": {
      "text/plain": [
       "'Tom'"
      ]
     },
     "execution_count": 35,
     "metadata": {},
     "output_type": "execute_result"
    }
   ],
   "source": [
    "tokens[32]"
   ]
  },
  {
   "cell_type": "code",
   "execution_count": 40,
   "metadata": {
    "scrolled": true
   },
   "outputs": [
    {
     "data": {
      "text/plain": [
       "['Robert', 'Downey', 'Jr.']"
      ]
     },
     "execution_count": 40,
     "metadata": {},
     "output_type": "execute_result"
    }
   ],
   "source": [
    "tokens[17:20]"
   ]
  },
  {
   "cell_type": "code",
   "execution_count": 37,
   "metadata": {
    "scrolled": false
   },
   "outputs": [
    {
     "data": {
      "text/plain": [
       "'He'"
      ]
     },
     "execution_count": 37,
     "metadata": {},
     "output_type": "execute_result"
    }
   ],
   "source": [
    "tokens[25]"
   ]
  },
  {
   "cell_type": "markdown",
   "metadata": {},
   "source": [
    "# Debiasing"
   ]
  },
  {
   "cell_type": "code",
   "execution_count": null,
   "metadata": {},
   "outputs": [],
   "source": []
  }
 ],
 "metadata": {
  "kernelspec": {
   "display_name": "Python 3",
   "language": "python",
   "name": "python3"
  },
  "language_info": {
   "codemirror_mode": {
    "name": "ipython",
    "version": 3
   },
   "file_extension": ".py",
   "mimetype": "text/x-python",
   "name": "python",
   "nbconvert_exporter": "python",
   "pygments_lexer": "ipython3",
   "version": "3.6.8"
  }
 },
 "nbformat": 4,
 "nbformat_minor": 2
}
