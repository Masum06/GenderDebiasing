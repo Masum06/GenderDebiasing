{
 "cells": [
  {
   "cell_type": "markdown",
   "metadata": {},
   "source": [
    "### Imports"
   ]
  },
  {
   "cell_type": "code",
   "execution_count": 84,
   "metadata": {},
   "outputs": [
    {
     "name": "stderr",
     "output_type": "stream",
     "text": [
      "Using TensorFlow backend.\n"
     ]
    }
   ],
   "source": [
    "from keras.models import load_model"
   ]
  },
  {
   "cell_type": "code",
   "execution_count": 151,
   "metadata": {},
   "outputs": [],
   "source": [
    "import spacy, nltk\n",
    "import pandas as pd\n",
    "import en_core_web_lg\n",
    "nlp = en_core_web_lg.load()"
   ]
  },
  {
   "cell_type": "code",
   "execution_count": 152,
   "metadata": {},
   "outputs": [],
   "source": [
    "from spacy.pipeline import EntityRecognizer\n",
    "ner = EntityRecognizer(nlp.vocab)"
   ]
  },
  {
   "cell_type": "code",
   "execution_count": 85,
   "metadata": {},
   "outputs": [],
   "source": [
    "import json\n",
    "\n",
    "with open('char2idx.json', 'r') as fp:\n",
    "    char2idx = json.load(fp)\n",
    "    \n",
    "with open('idx2char.json', 'r') as fp:\n",
    "    idx2char = json.load(fp)"
   ]
  },
  {
   "cell_type": "code",
   "execution_count": 86,
   "metadata": {
    "scrolled": true
   },
   "outputs": [
    {
     "name": "stderr",
     "output_type": "stream",
     "text": [
      "WARNING: Logging before flag parsing goes to stderr.\n",
      "W1108 15:56:03.132026 20132 deprecation_wrapper.py:119] From c:\\users\\hp\\appdata\\local\\programs\\python\\python36\\lib\\site-packages\\keras\\backend\\tensorflow_backend.py:517: The name tf.placeholder is deprecated. Please use tf.compat.v1.placeholder instead.\n",
      "\n",
      "W1108 15:56:03.381767 20132 deprecation_wrapper.py:119] From c:\\users\\hp\\appdata\\local\\programs\\python\\python36\\lib\\site-packages\\keras\\backend\\tensorflow_backend.py:4138: The name tf.random_uniform is deprecated. Please use tf.random.uniform instead.\n",
      "\n",
      "W1108 15:56:03.416742 20132 deprecation_wrapper.py:119] From c:\\users\\hp\\appdata\\local\\programs\\python\\python36\\lib\\site-packages\\keras\\backend\\tensorflow_backend.py:74: The name tf.get_default_graph is deprecated. Please use tf.compat.v1.get_default_graph instead.\n",
      "\n",
      "W1108 15:56:03.586371 20132 deprecation_wrapper.py:119] From c:\\users\\hp\\appdata\\local\\programs\\python\\python36\\lib\\site-packages\\keras\\backend\\tensorflow_backend.py:133: The name tf.placeholder_with_default is deprecated. Please use tf.compat.v1.placeholder_with_default instead.\n",
      "\n",
      "W1108 15:56:03.598356 20132 deprecation.py:506] From c:\\users\\hp\\appdata\\local\\programs\\python\\python36\\lib\\site-packages\\keras\\backend\\tensorflow_backend.py:3445: calling dropout (from tensorflow.python.ops.nn_ops) with keep_prob is deprecated and will be removed in a future version.\n",
      "Instructions for updating:\n",
      "Please use `rate` instead of `keep_prob`. Rate should be set to `rate = 1 - keep_prob`.\n",
      "W1108 15:56:03.951777 20132 deprecation_wrapper.py:119] From c:\\users\\hp\\appdata\\local\\programs\\python\\python36\\lib\\site-packages\\keras\\backend\\tensorflow_backend.py:174: The name tf.get_default_session is deprecated. Please use tf.compat.v1.get_default_session instead.\n",
      "\n",
      "W1108 15:56:04.222516 20132 deprecation_wrapper.py:119] From c:\\users\\hp\\appdata\\local\\programs\\python\\python36\\lib\\site-packages\\keras\\optimizers.py:790: The name tf.train.Optimizer is deprecated. Please use tf.compat.v1.train.Optimizer instead.\n",
      "\n",
      "W1108 15:56:04.232455 20132 deprecation.py:323] From c:\\users\\hp\\appdata\\local\\programs\\python\\python36\\lib\\site-packages\\tensorflow\\python\\ops\\nn_impl.py:180: add_dispatch_support.<locals>.wrapper (from tensorflow.python.ops.array_ops) is deprecated and will be removed in a future version.\n",
      "Instructions for updating:\n",
      "Use tf.where in 2.0, which has the same broadcast rule as np.where\n"
     ]
    }
   ],
   "source": [
    "model = load_model('char_rnn_hsc_model_0.h5')"
   ]
  },
  {
   "cell_type": "markdown",
   "metadata": {},
   "source": [
    "### Methods"
   ]
  },
  {
   "cell_type": "code",
   "execution_count": 108,
   "metadata": {},
   "outputs": [],
   "source": [
    "import numpy as np\n",
    "from keras.preprocessing import sequence\n",
    "\n",
    "# Converts a name into vector\n",
    "def name2vectorTest(name):\n",
    "    name = name.lower()\n",
    "    new_name = \"\"\n",
    "    for char in name:\n",
    "      if char in char2idx:\n",
    "        new_name += char\n",
    "    chars = list(new_name)\n",
    "    vector = [ char2idx[c] for c in chars ]\n",
    "    return np.array(vector)\n",
    "\n",
    "# Converts names to fixed size tensor\n",
    "def names2tensorTest(names, maxlen=25):\n",
    "    namelist = [name2vectorTest(name) for name in names]\n",
    "    return sequence.pad_sequences(np.array(namelist), maxlen=maxlen)  # root of all troubles\n",
    "\n",
    "def name2gender(name):\n",
    "  result = model.predict_classes(np.array(names2tensorTest([name.lower()])))[0][0]\n",
    "  if result:\n",
    "    return \"male\"\n",
    "  else:\n",
    "    return \"female\"\n",
    "  \n",
    "def isMale(name):\n",
    "  result = model.predict_classes(np.array(names2tensorTest([name.lower()])))[0][0]\n",
    "  return result"
   ]
  },
  {
   "cell_type": "code",
   "execution_count": 212,
   "metadata": {
    "scrolled": false
   },
   "outputs": [],
   "source": [
    "NER_FAR_VAL = 99999\n",
    "\n",
    "def has_ner_gender(doc):\n",
    "    if not doc.ents:\n",
    "        return (NER_FAR_VAL, 0, 0)\n",
    "    \n",
    "    per_ents = set()\n",
    "    entity_fist_position = NER_FAR_VAL\n",
    "    for ent in doc.ents:\n",
    "        if ent.label_ == 'PERSON':\n",
    "            per_ents.add(ent.text)\n",
    "            entity_fist_position = ent.start\n",
    "\n",
    "    if not per_ents:\n",
    "        return (NER_FAR_VAL, 0, 0)\n",
    "    \n",
    "    male_mentions = 0\n",
    "    female_mentions = 0\n",
    "    for per in per_ents:\n",
    "        male = isMale(per)\n",
    "        if male:\n",
    "            male_mentions+=1\n",
    "        else:\n",
    "            female_mentions+=1\n",
    "    return (entity_fist_position, male_mentions, female_mentions)"
   ]
  },
  {
   "cell_type": "code",
   "execution_count": 213,
   "metadata": {},
   "outputs": [],
   "source": [
    "POS_FAR_VAL = 9999\n",
    "male_pronoun_list = [\"he\", \"his\", \"him\", \"himself\"]\n",
    "female_pronoun_list = [\"she\", \"her\", \"her\",\"herself\"]\n",
    "def pron_pos(doc):\n",
    "    pron_position = POS_FAR_VAL\n",
    "    male_mention = 0\n",
    "    female_mention = 0\n",
    "    for token in doc:\n",
    "        if token.tag_ in ['PRP', 'PRP$'] and token.text.lower() in male_pronoun_list+female_pronoun_list:\n",
    "            if pron_position == POS_FAR_VAL:\n",
    "                pron_position = token.idx\n",
    "            if token.text.lower() in male_pronoun_list:\n",
    "                male_mention += 1\n",
    "            elif token.text.lower() in female_pronoun_list:\n",
    "                female_mention += 1\n",
    "    return (pron_position, male_mention, female_mention)"
   ]
  },
  {
   "cell_type": "code",
   "execution_count": 214,
   "metadata": {},
   "outputs": [
    {
     "data": {
      "text/plain": [
       "(9999, 0, 0)"
      ]
     },
     "execution_count": 214,
     "metadata": {},
     "output_type": "execute_result"
    }
   ],
   "source": [
    "pron_pos(doc)"
   ]
  },
  {
   "cell_type": "code",
   "execution_count": 215,
   "metadata": {
    "scrolled": true
   },
   "outputs": [
    {
     "data": {
      "text/plain": [
       "1"
      ]
     },
     "execution_count": 215,
     "metadata": {},
     "output_type": "execute_result"
    }
   ],
   "source": [
    "doc[1].idx"
   ]
  },
  {
   "cell_type": "code",
   "execution_count": 216,
   "metadata": {},
   "outputs": [
    {
     "data": {
      "text/plain": [
       "“Happy birthday to the most beautiful girl in the world."
      ]
     },
     "execution_count": 216,
     "metadata": {},
     "output_type": "execute_result"
    }
   ],
   "source": [
    "doc"
   ]
  },
  {
   "cell_type": "markdown",
   "metadata": {},
   "source": [
    "## Parsing Gender Associated Sentences"
   ]
  },
  {
   "cell_type": "code",
   "execution_count": 248,
   "metadata": {},
   "outputs": [],
   "source": [
    "article = \"\"\"Tanvi Jhumur, second wife of lawmaker Moazzem Hossain Ratan of Sunamganj-1, has been terminated from the post of assistant teacher of Teghoria Government Primary School of Sunamganj Sadar upazila.\n",
    "\n",
    "The directorate of primary education (DPE) has sacked her from the job after allegations of drawing regular salary and other allowances without teaching for months ware found true against her.\n",
    "\n",
    "District primary education officer (DPEO) of Sunamganj Md Jillur Rahman confirmed this to media around 3:30pm on Friday.\n",
    "He said, “Jhumur has been terminated from her job as per the directives of the director general of the DPE.”\n",
    "\n",
    "A letter with recommendation for departmental actions against the sacked assistant teacher has already been sent to the primary and mass education ministry, Jillur added.\n",
    "\n",
    "Earlier on the same day, several media reports claimed that Tanvi Jhumur has been absent from her workplace without getting leave for last 10 months but she is drawing her monthly salary on regular basis.\n",
    "\n",
    "Jhumur took a one-day leave from her office due to illness 10 months ago but she has remained absent from the office since then, according to Teghoria Govt Primary School authorities.\n",
    "\n",
    "On information, Jhumur is currently living with her husband in a flat of NAM Bhaban on Manik Mia Avenue in the capital.\n",
    "\"\"\""
   ]
  },
  {
   "cell_type": "code",
   "execution_count": 260,
   "metadata": {},
   "outputs": [],
   "source": [
    "def get_gender_sents(article, MAX_TOKEN_NUM):\n",
    "    sent_list = nltk.sent_tokenize(article)\n",
    "    corpora = []\n",
    "    sent_stack = []\n",
    "    stack_count = 0\n",
    "    male_mention = female_mention = 0\n",
    "\n",
    "    for sent in sent_list:\n",
    "        sent = ' '.join(sent.split())\n",
    "        doc = nlp(sent)\n",
    "        ner_position, male_mention1, female_mention1 = has_ner_gender(doc)\n",
    "        pron_position, male_mention2, female_mention2 = pron_pos(doc)\n",
    "\n",
    "        #print(doc, ner_position, pron_position)\n",
    "        \n",
    "        if not sent_stack:\n",
    "            if ner_position < pron_position and len(doc) <= MAX_TOKEN_NUM:\n",
    "                sent_stack.append(sent)\n",
    "                stack_count += len(doc)\n",
    "                male_mention += male_mention1+male_mention2\n",
    "                female_mention += female_mention1+female_mention2\n",
    "        else:\n",
    "            if (pron_position != POS_FAR_VAL or ner_position != NER_FAR_VAL) and (stack_count+len(doc) <= MAX_TOKEN_NUM):\n",
    "                sent_stack.append(sent)\n",
    "                stack_count += len(doc)\n",
    "                male_mention += male_mention1+male_mention2\n",
    "                female_mention += female_mention1+female_mention2\n",
    "            else:\n",
    "                corpus = ' '.join(sent_stack)\n",
    "                corpora.append((corpus, male_mention, female_mention))\n",
    "                sent_stack.clear()\n",
    "                stack_count = 0\n",
    "                male_mention = female_mention = 0\n",
    "                if ner_position < pron_position and len(doc) <= MAX_TOKEN_NUM:\n",
    "                    sent_stack.append(sent)\n",
    "                    stack_count += len(doc)\n",
    "                    male_mention += male_mention1+male_mention2\n",
    "                    female_mention += female_mention1+female_mention2\n",
    "    return corpora"
   ]
  },
  {
   "cell_type": "markdown",
   "metadata": {},
   "source": [
    "## Read & Write Data"
   ]
  },
  {
   "cell_type": "code",
   "execution_count": 271,
   "metadata": {},
   "outputs": [
    {
     "data": {
      "text/html": [
       "<div>\n",
       "<style scoped>\n",
       "    .dataframe tbody tr th:only-of-type {\n",
       "        vertical-align: middle;\n",
       "    }\n",
       "\n",
       "    .dataframe tbody tr th {\n",
       "        vertical-align: top;\n",
       "    }\n",
       "\n",
       "    .dataframe thead th {\n",
       "        text-align: right;\n",
       "    }\n",
       "</style>\n",
       "<table border=\"1\" class=\"dataframe\">\n",
       "  <thead>\n",
       "    <tr style=\"text-align: right;\">\n",
       "      <th></th>\n",
       "      <th>text</th>\n",
       "      <th>male_mention</th>\n",
       "      <th>female_mention</th>\n",
       "    </tr>\n",
       "  </thead>\n",
       "  <tbody>\n",
       "    <tr>\n",
       "      <th>0</th>\n",
       "      <td>Tanvi Jhumur, second wife of lawmaker Moazzem ...</td>\n",
       "      <td>1</td>\n",
       "      <td>1</td>\n",
       "    </tr>\n",
       "    <tr>\n",
       "      <th>1</th>\n",
       "      <td>District primary education officer (DPEO) of S...</td>\n",
       "      <td>2</td>\n",
       "      <td>0</td>\n",
       "    </tr>\n",
       "    <tr>\n",
       "      <th>2</th>\n",
       "      <td>Earlier on the same day, several media reports...</td>\n",
       "      <td>0</td>\n",
       "      <td>4</td>\n",
       "    </tr>\n",
       "    <tr>\n",
       "      <th>3</th>\n",
       "      <td>Jhumur took a one-day leave from her office du...</td>\n",
       "      <td>0</td>\n",
       "      <td>3</td>\n",
       "    </tr>\n",
       "  </tbody>\n",
       "</table>\n",
       "</div>"
      ],
      "text/plain": [
       "                                                text  male_mention  \\\n",
       "0  Tanvi Jhumur, second wife of lawmaker Moazzem ...             1   \n",
       "1  District primary education officer (DPEO) of S...             2   \n",
       "2  Earlier on the same day, several media reports...             0   \n",
       "3  Jhumur took a one-day leave from her office du...             0   \n",
       "\n",
       "   female_mention  \n",
       "0               1  \n",
       "1               0  \n",
       "2               4  \n",
       "3               3  "
      ]
     },
     "execution_count": 271,
     "metadata": {},
     "output_type": "execute_result"
    }
   ],
   "source": [
    "df2 = pd.DataFrame(corpora, columns = ['text', 'male_mention', 'female_mention']) \n",
    "df2"
   ]
  },
  {
   "cell_type": "code",
   "execution_count": 269,
   "metadata": {
    "scrolled": false
   },
   "outputs": [],
   "source": [
    "df = pd.DataFrame(columns = ['text', 'male_mention', 'female_mention']) "
   ]
  },
  {
   "cell_type": "code",
   "execution_count": 274,
   "metadata": {},
   "outputs": [],
   "source": [
    "df = pd.concat([df2,df])"
   ]
  },
  {
   "cell_type": "code",
   "execution_count": 275,
   "metadata": {},
   "outputs": [
    {
     "data": {
      "text/html": [
       "<div>\n",
       "<style scoped>\n",
       "    .dataframe tbody tr th:only-of-type {\n",
       "        vertical-align: middle;\n",
       "    }\n",
       "\n",
       "    .dataframe tbody tr th {\n",
       "        vertical-align: top;\n",
       "    }\n",
       "\n",
       "    .dataframe thead th {\n",
       "        text-align: right;\n",
       "    }\n",
       "</style>\n",
       "<table border=\"1\" class=\"dataframe\">\n",
       "  <thead>\n",
       "    <tr style=\"text-align: right;\">\n",
       "      <th></th>\n",
       "      <th>text</th>\n",
       "      <th>male_mention</th>\n",
       "      <th>female_mention</th>\n",
       "    </tr>\n",
       "  </thead>\n",
       "  <tbody>\n",
       "    <tr>\n",
       "      <th>0</th>\n",
       "      <td>Tanvi Jhumur, second wife of lawmaker Moazzem ...</td>\n",
       "      <td>1</td>\n",
       "      <td>1</td>\n",
       "    </tr>\n",
       "    <tr>\n",
       "      <th>1</th>\n",
       "      <td>District primary education officer (DPEO) of S...</td>\n",
       "      <td>2</td>\n",
       "      <td>0</td>\n",
       "    </tr>\n",
       "    <tr>\n",
       "      <th>2</th>\n",
       "      <td>Earlier on the same day, several media reports...</td>\n",
       "      <td>0</td>\n",
       "      <td>4</td>\n",
       "    </tr>\n",
       "    <tr>\n",
       "      <th>3</th>\n",
       "      <td>Jhumur took a one-day leave from her office du...</td>\n",
       "      <td>0</td>\n",
       "      <td>3</td>\n",
       "    </tr>\n",
       "  </tbody>\n",
       "</table>\n",
       "</div>"
      ],
      "text/plain": [
       "                                                text male_mention  \\\n",
       "0  Tanvi Jhumur, second wife of lawmaker Moazzem ...            1   \n",
       "1  District primary education officer (DPEO) of S...            2   \n",
       "2  Earlier on the same day, several media reports...            0   \n",
       "3  Jhumur took a one-day leave from her office du...            0   \n",
       "\n",
       "  female_mention  \n",
       "0              1  \n",
       "1              0  \n",
       "2              4  \n",
       "3              3  "
      ]
     },
     "execution_count": 275,
     "metadata": {},
     "output_type": "execute_result"
    }
   ],
   "source": [
    "df"
   ]
  },
  {
   "cell_type": "code",
   "execution_count": null,
   "metadata": {},
   "outputs": [],
   "source": []
  }
 ],
 "metadata": {
  "kernelspec": {
   "display_name": "Python 3",
   "language": "python",
   "name": "python3"
  },
  "language_info": {
   "codemirror_mode": {
    "name": "ipython",
    "version": 3
   },
   "file_extension": ".py",
   "mimetype": "text/x-python",
   "name": "python",
   "nbconvert_exporter": "python",
   "pygments_lexer": "ipython3",
   "version": "3.6.8"
  }
 },
 "nbformat": 4,
 "nbformat_minor": 2
}
